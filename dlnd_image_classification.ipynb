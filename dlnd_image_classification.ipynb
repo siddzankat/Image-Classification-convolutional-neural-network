{
 "cells": [
  {
   "cell_type": "markdown",
   "metadata": {
    "collapsed": true,
    "deletable": true,
    "editable": true
   },
   "source": [
    "# Image Classification\n",
    "In this project, you'll classify images from the [CIFAR-10 dataset](https://www.cs.toronto.edu/~kriz/cifar.html).  The dataset consists of airplanes, dogs, cats, and other objects. You'll preprocess the images, then train a convolutional neural network on all the samples. The images need to be normalized and the labels need to be one-hot encoded.  You'll get to apply what you learned and build a convolutional, max pooling, dropout, and fully connected layers.  At the end, you'll get to see your neural network's predictions on the sample images.\n",
    "## Get the Data\n",
    "Run the following cell to download the [CIFAR-10 dataset for python](https://www.cs.toronto.edu/~kriz/cifar-10-python.tar.gz)."
   ]
  },
  {
   "cell_type": "code",
   "execution_count": 1,
   "metadata": {
    "collapsed": false,
    "deletable": true,
    "editable": true
   },
   "outputs": [
    {
     "name": "stdout",
     "output_type": "stream",
     "text": [
      "All files found!\n"
     ]
    }
   ],
   "source": [
    "\"\"\"\n",
    "DON'T MODIFY ANYTHING IN THIS CELL THAT IS BELOW THIS LINE\n",
    "\"\"\"\n",
    "from urllib.request import urlretrieve\n",
    "from os.path import isfile, isdir\n",
    "from tqdm import tqdm\n",
    "import problem_unittests as tests\n",
    "import tarfile\n",
    "\n",
    "cifar10_dataset_folder_path = 'cifar-10-batches-py'\n",
    "\n",
    "class DLProgress(tqdm):\n",
    "    last_block = 0\n",
    "\n",
    "    def hook(self, block_num=1, block_size=1, total_size=None):\n",
    "        self.total = total_size\n",
    "        self.update((block_num - self.last_block) * block_size)\n",
    "        self.last_block = block_num\n",
    "\n",
    "if not isfile('cifar-10-python.tar.gz'):\n",
    "    with DLProgress(unit='B', unit_scale=True, miniters=1, desc='CIFAR-10 Dataset') as pbar:\n",
    "        urlretrieve(\n",
    "            'https://www.cs.toronto.edu/~kriz/cifar-10-python.tar.gz',\n",
    "            'cifar-10-python.tar.gz',\n",
    "            pbar.hook)\n",
    "\n",
    "if not isdir(cifar10_dataset_folder_path):\n",
    "    with tarfile.open('cifar-10-python.tar.gz') as tar:\n",
    "        tar.extractall()\n",
    "        tar.close()\n",
    "\n",
    "\n",
    "tests.test_folder_path(cifar10_dataset_folder_path)"
   ]
  },
  {
   "cell_type": "markdown",
   "metadata": {
    "deletable": true,
    "editable": true
   },
   "source": [
    "## Explore the Data\n",
    "The dataset is broken into batches to prevent your machine from running out of memory.  The CIFAR-10 dataset consists of 5 batches, named `data_batch_1`, `data_batch_2`, etc.. Each batch contains the labels and images that are one of the following:\n",
    "* airplane\n",
    "* automobile\n",
    "* bird\n",
    "* cat\n",
    "* deer\n",
    "* dog\n",
    "* frog\n",
    "* horse\n",
    "* ship\n",
    "* truck\n",
    "\n",
    "Understanding a dataset is part of making predictions on the data.  Play around with the code cell below by changing the `batch_id` and `sample_id`. The `batch_id` is the id for a batch (1-5). The `sample_id` is the id for a image and label pair in the batch.\n",
    "\n",
    "Ask yourself \"What are all possible labels?\", \"What is the range of values for the image data?\", \"Are the labels in order or random?\".  Answers to questions like these will help you preprocess the data and end up with better predictions."
   ]
  },
  {
   "cell_type": "code",
   "execution_count": 2,
   "metadata": {
    "collapsed": false,
    "deletable": true,
    "editable": true
   },
   "outputs": [
    {
     "name": "stdout",
     "output_type": "stream",
     "text": [
      "\n",
      "Stats of batch 1:\n",
      "Samples: 10000\n",
      "Label Counts: {0: 1005, 1: 974, 2: 1032, 3: 1016, 4: 999, 5: 937, 6: 1030, 7: 1001, 8: 1025, 9: 981}\n",
      "First 20 Labels: [6, 9, 9, 4, 1, 1, 2, 7, 8, 3, 4, 7, 7, 2, 9, 9, 9, 3, 2, 6]\n",
      "\n",
      "Example of Image 5:\n",
      "Image - Min Value: 0 Max Value: 252\n",
      "Image - Shape: (32, 32, 3)\n",
      "Label - Label Id: 1 Name: automobile\n"
     ]
    },
    {
     "data": {
      "image/png": "[encoded data removed]",
      "text/plain": [
       "<matplotlib.figure.Figure at 0x7fbb1c1826a0>"
      ]
     },
     "metadata": {
      "image/png": {
       "height": 250,
       "width": 253
      }
     },
     "output_type": "display_data"
    }
   ],
   "source": [
    "%matplotlib inline\n",
    "%config InlineBackend.figure_format = 'retina'\n",
    "\n",
    "import helper\n",
    "import numpy as np\n",
    "from sklearn import preprocessing\n",
    "\n",
    "# Explore the dataset\n",
    "batch_id = 1\n",
    "sample_id = 5\n",
    "helper.display_stats(cifar10_dataset_folder_path, batch_id, sample_id)"
   ]
  },
  {
   "cell_type": "markdown",
   "metadata": {
    "deletable": true,
    "editable": true
   },
   "source": [
    "## Implement Preprocess Functions\n",
    "### Normalize\n",
    "In the cell below, implement the `normalize` function to take in image data, `x`, and return it as a normalized Numpy array. The values should be in the range of 0 to 1, inclusive.  The return object should be the same shape as `x`."
   ]
  },
  {
   "cell_type": "code",
   "execution_count": 37,
   "metadata": {
    "collapsed": false,
    "deletable": true,
    "editable": true
   },
   "outputs": [
    {
     "name": "stdout",
     "output_type": "stream",
     "text": [
      "Tests Passed\n"
     ]
    }
   ],
   "source": [
    "def normalize(x):\n",
    "    \"\"\"\n",
    "    Normalize a list of sample image data in the range of 0 to 1\n",
    "    : x: List of image data.  The image shape is (32, 32, 3)\n",
    "    : return: Numpy array of normalize data\n",
    "    \"\"\"\n",
    "    \n",
    "    x = x.astype('float32')\n",
    "    return x / 255.0\n",
    "\n",
    "\n",
    "\"\"\"\n",
    "DON'T MODIFY ANYTHING IN THIS CELL THAT IS BELOW THIS LINE\n",
    "\"\"\"\n",
    "tests.test_normalize(normalize)"
   ]
  },
  {
   "cell_type": "markdown",
   "metadata": {
    "deletable": true,
    "editable": true
   },
   "source": [
    "### One-hot encode\n",
    "Just like the previous code cell, you'll be implementing a function for preprocessing.  This time, you'll implement the `one_hot_encode` function. The input, `x`, are a list of labels.  Implement the function to return the list of labels as One-Hot encoded Numpy array.  The possible values for labels are 0 to 9. The one-hot encoding function should return the same encoding for each value between each call to `one_hot_encode`.  Make sure to save the map of encodings outside the function.\n",
    "\n",
    "Hint: Don't reinvent the wheel."
   ]
  },
  {
   "cell_type": "code",
   "execution_count": 38,
   "metadata": {
    "collapsed": false,
    "deletable": true,
    "editable": true
   },
   "outputs": [
    {
     "name": "stdout",
     "output_type": "stream",
     "text": [
      "Tests Passed\n"
     ]
    }
   ],
   "source": [
    "def one_hot_encode(x):\n",
    "    \"\"\"\n",
    "    One hot encode a list of sample labels. Return a one-hot encoded vector for each label.\n",
    "    : x: List of sample Labels\n",
    "    : return: Numpy array of one-hot encoded labels\n",
    "    \"\"\"\n",
    "    \n",
    "    lb = preprocessing.LabelBinarizer(neg_label=0, pos_label=1, sparse_output=False)\n",
    "    lb.fit(np.array([[0,0,0,0,0,0,0,0,0,0],[0,0,0,0,0,0,0,0,0,0]]))\n",
    "    return lb.transform(x)\n",
    "\n",
    "\n",
    "\"\"\"\n",
    "DON'T MODIFY ANYTHING IN THIS CELL THAT IS BELOW THIS LINE\n",
    "\"\"\"\n",
    "tests.test_one_hot_encode(one_hot_encode)"
   ]
  },
  {
   "cell_type": "markdown",
   "metadata": {
    "deletable": true,
    "editable": true
   },
   "source": [
    "### Randomize Data\n",
    "As you saw from exploring the data above, the order of the samples are randomized.  It doesn't hurt to randomize it again, but you don't need to for this dataset."
   ]
  },
  {
   "cell_type": "markdown",
   "metadata": {
    "deletable": true,
    "editable": true
   },
   "source": [
    "## Preprocess all the data and save it\n",
    "Running the code cell below will preprocess all the CIFAR-10 data and save it to file. The code below also uses 10% of the training data for validation."
   ]
  },
  {
   "cell_type": "code",
   "execution_count": 39,
   "metadata": {
    "collapsed": false,
    "deletable": true,
    "editable": true
   },
   "outputs": [],
   "source": [
    "\"\"\"\n",
    "DON'T MODIFY ANYTHING IN THIS CELL\n",
    "\"\"\"\n",
    "# Preprocess Training, Validation, and Testing Data\n",
    "helper.preprocess_and_save_data(cifar10_dataset_folder_path, normalize, one_hot_encode)"
   ]
  },
  {
   "cell_type": "markdown",
   "metadata": {
    "deletable": true,
    "editable": true
   },
   "source": [
    "# Check Point\n",
    "This is your first checkpoint.  If you ever decide to come back to this notebook or have to restart the notebook, you can start from here.  The preprocessed data has been saved to disk."
   ]
  },
  {
   "cell_type": "code",
   "execution_count": 40,
   "metadata": {
    "collapsed": true,
    "deletable": true,
    "editable": true
   },
   "outputs": [],
   "source": [
    "\"\"\"\n",
    "DON'T MODIFY ANYTHING IN THIS CELL\n",
    "\"\"\"\n",
    "import pickle\n",
    "import problem_unittests as tests\n",
    "import helper\n",
    "\n",
    "# Load the Preprocessed Validation data\n",
    "valid_features, valid_labels = pickle.load(open('preprocess_validation.p', mode='rb'))"
   ]
  },
  {
   "cell_type": "markdown",
   "metadata": {
    "deletable": true,
    "editable": true
   },
   "source": [
    "## Build the network\n",
    "For the neural network, you'll build each layer into a function.  Most of the code you've seen has been outside of functions. To test your code more thoroughly, we require that you put each layer in a function.  This allows us to give you better feedback and test for simple mistakes using our unittests before you submit your project.\n",
    "\n",
    ">**Note:** If you're finding it hard to dedicate enough time for this course each week, we've provided a small shortcut to this part of the project. In the next couple of problems, you'll have the option to use classes from the [TensorFlow Layers](https://www.tensorflow.org/api_docs/python/tf/layers) or [TensorFlow Layers (contrib)](https://www.tensorflow.org/api_guides/python/contrib.layers) packages to build each layer, except the layers you build in the \"Convolutional and Max Pooling Layer\" section.  TF Layers is similar to Keras's and TFLearn's abstraction to layers, so it's easy to pickup.\n",
    "\n",
    ">However, if you would like to get the most out of this course, try to solve all the problems _without_ using anything from the TF Layers packages. You **can** still use classes from other packages that happen to have the same name as ones you find in TF Layers! For example, instead of using the TF Layers version of the `conv2d` class, [tf.layers.conv2d](https://www.tensorflow.org/api_docs/python/tf/layers/conv2d), you would want to use the TF Neural Network version of `conv2d`, [tf.nn.conv2d](https://www.tensorflow.org/api_docs/python/tf/nn/conv2d). \n",
    "\n",
    "Let's begin!\n",
    "\n",
    "### Input\n",
    "The neural network needs to read the image data, one-hot encoded labels, and dropout keep probability. Implement the following functions\n",
    "* Implement `neural_net_image_input`\n",
    " * Return a [TF Placeholder](https://www.tensorflow.org/api_docs/python/tf/placeholder)\n",
    " * Set the shape using `image_shape` with batch size set to `None`.\n",
    " * Name the TensorFlow placeholder \"x\" using the TensorFlow `name` parameter in the [TF Placeholder](https://www.tensorflow.org/api_docs/python/tf/placeholder).\n",
    "* Implement `neural_net_label_input`\n",
    " * Return a [TF Placeholder](https://www.tensorflow.org/api_docs/python/tf/placeholder)\n",
    " * Set the shape using `n_classes` with batch size set to `None`.\n",
    " * Name the TensorFlow placeholder \"y\" using the TensorFlow `name` parameter in the [TF Placeholder](https://www.tensorflow.org/api_docs/python/tf/placeholder).\n",
    "* Implement `neural_net_keep_prob_input`\n",
    " * Return a [TF Placeholder](https://www.tensorflow.org/api_docs/python/tf/placeholder) for dropout keep probability.\n",
    " * Name the TensorFlow placeholder \"keep_prob\" using the TensorFlow `name` parameter in the [TF Placeholder](https://www.tensorflow.org/api_docs/python/tf/placeholder).\n",
    "\n",
    "These names will be used at the end of the project to load your saved model.\n",
    "\n",
    "Note: `None` for shapes in TensorFlow allow for a dynamic size."
   ]
  },
  {
   "cell_type": "code",
   "execution_count": 145,
   "metadata": {
    "collapsed": false,
    "deletable": true,
    "editable": true
   },
   "outputs": [
    {
     "name": "stdout",
     "output_type": "stream",
     "text": [
      "Image Input Tests Passed.\n",
      "Label Input Tests Passed.\n",
      "Keep Prob Tests Passed.\n"
     ]
    }
   ],
   "source": [
    "import tensorflow as tf\n",
    "\n",
    "def neural_net_image_input(image_shape):\n",
    "    \"\"\"\n",
    "    Return a Tensor for a bach of image input\n",
    "    : image_shape: Shape of the images\n",
    "    : return: Tensor for image input.\n",
    "    \"\"\"\n",
    "    \n",
    "    return tf.placeholder(tf.float32, shape= [None, *image_shape], name=\"x\")\n",
    "\n",
    "\n",
    "def neural_net_label_input(n_classes):\n",
    "    \"\"\"\n",
    "    Return a Tensor for a batch of label input\n",
    "    : n_classes: Number of classes\n",
    "    : return: Tensor for label input.\n",
    "    \"\"\"\n",
    "    \n",
    "    return tf.placeholder(tf.float32, shape=[None, n_classes], name=\"y\")\n",
    "\n",
    "\n",
    "def neural_net_keep_prob_input():\n",
    "    \"\"\"\n",
    "    Return a Tensor for keep probability\n",
    "    : return: Tensor for keep probability.\n",
    "    \"\"\"\n",
    "    \n",
    "    return tf.placeholder(tf.float32, name=\"keep_prob\")\n",
    "\n",
    "\n",
    "\"\"\"\n",
    "DON'T MODIFY ANYTHING IN THIS CELL THAT IS BELOW THIS LINE\n",
    "\"\"\"\n",
    "tf.reset_default_graph()\n",
    "tests.test_nn_image_inputs(neural_net_image_input)\n",
    "tests.test_nn_label_inputs(neural_net_label_input)\n",
    "tests.test_nn_keep_prob_inputs(neural_net_keep_prob_input)"
   ]
  },
  {
   "cell_type": "markdown",
   "metadata": {
    "deletable": true,
    "editable": true
   },
   "source": [
    "### Convolution and Max Pooling Layer\n",
    "Convolution layers have a lot of success with images. For this code cell, you should implement the function `conv2d_maxpool` to apply convolution then max pooling:\n",
    "* Create the weight and bias using `conv_ksize`, `conv_num_outputs` and the shape of `x_tensor`.\n",
    "* Apply a convolution to `x_tensor` using weight and `conv_strides`.\n",
    " * We recommend you use same padding, but you're welcome to use any padding.\n",
    "* Add bias\n",
    "* Add a nonlinear activation to the convolution.\n",
    "* Apply Max Pooling using `pool_ksize` and `pool_strides`.\n",
    " * We recommend you use same padding, but you're welcome to use any padding.\n",
    "\n",
    "**Note:** You **can't** use [TensorFlow Layers](https://www.tensorflow.org/api_docs/python/tf/layers) or [TensorFlow Layers (contrib)](https://www.tensorflow.org/api_guides/python/contrib.layers) for **this** layer, but you can still use TensorFlow's [Neural Network](https://www.tensorflow.org/api_docs/python/tf/nn) package. You may still use the shortcut option for all the **other** layers."
   ]
  },
  {
   "cell_type": "code",
   "execution_count": 130,
   "metadata": {
    "collapsed": false,
    "deletable": true,
    "editable": true
   },
   "outputs": [
    {
     "name": "stdout",
     "output_type": "stream",
     "text": [
      "Tests Passed\n"
     ]
    }
   ],
   "source": [
    "def conv2d_maxpool(x_tensor, conv_num_outputs, conv_ksize, conv_strides, pool_ksize, pool_strides):\n",
    "    \"\"\"\n",
    "    Apply convolution then max pooling to x_tensor\n",
    "    :param x_tensor: TensorFlow Tensor\n",
    "    :param conv_num_outputs: Number of outputs for the convolutional layer\n",
    "    :param conv_ksize: kernal size 2-D Tuple for the convolutional layer\n",
    "    :param conv_strides: Stride 2-D Tuple for convolution\n",
    "    :param pool_ksize: kernal size 2-D Tuple for pool\n",
    "    :param pool_strides: Stride 2-D Tuple for pool\n",
    "    : return: A tensor that represents convolution and max pooling of x_tensor\n",
    "    \"\"\"\n",
    "    \n",
    "    input_shape = int(x_tensor.get_shape()[3])\n",
    "    weights = tf.Variable(tf.truncated_normal([*conv_ksize, input_shape, conv_num_outputs], dtype=tf.float32))\n",
    "    bias = tf.Variable(tf.zeros(conv_num_outputs))\n",
    "    conv_layer = tf.nn.conv2d(x_tensor, weights, strides= [1, *conv_strides, 1], padding=\"SAME\")\n",
    "    conv_layer = conv_layer + bias\n",
    "    conv_layer = tf.nn.relu(conv_layer)\n",
    "    conv_layer = tf.nn.max_pool(conv_layer, ksize=[1, *pool_ksize, 1], strides=[1, *pool_strides, 1], padding=\"SAME\")\n",
    "    return conv_layer\n",
    "    \n",
    "\n",
    "\n",
    "\"\"\"\n",
    "DON'T MODIFY ANYTHING IN THIS CELL THAT IS BELOW THIS LINE\n",
    "\"\"\"\n",
    "tests.test_con_pool(conv2d_maxpool)"
   ]
  },
  {
   "cell_type": "markdown",
   "metadata": {
    "deletable": true,
    "editable": true
   },
   "source": [
    "### Flatten Layer\n",
    "Implement the `flatten` function to change the dimension of `x_tensor` from a 4-D tensor to a 2-D tensor.  The output should be the shape (*Batch Size*, *Flattened Image Size*). Shortcut option: you can use classes from the [TensorFlow Layers](https://www.tensorflow.org/api_docs/python/tf/layers) or [TensorFlow Layers (contrib)](https://www.tensorflow.org/api_guides/python/contrib.layers) packages for this layer. For more of a challenge, only use other TensorFlow packages."
   ]
  },
  {
   "cell_type": "code",
   "execution_count": 132,
   "metadata": {
    "collapsed": false,
    "deletable": true,
    "editable": true
   },
   "outputs": [
    {
     "name": "stdout",
     "output_type": "stream",
     "text": [
      "Tests Passed\n"
     ]
    }
   ],
   "source": [
    "def flatten(x_tensor):\n",
    "    \"\"\"\n",
    "    Flatten x_tensor to (Batch Size, Flattened Image Size)\n",
    "    : x_tensor: A tensor of size (Batch Size, ...), where ... are the image dimensions.\n",
    "    : return: A tensor of size (Batch Size, Flattened Image Size).\n",
    "    \"\"\"\n",
    "    \n",
    "    return tf.reshape(x_tensor, [-1, x_tensor.get_shape().as_list()[1]*\n",
    "                                 x_tensor.get_shape().as_list()[2]*x_tensor.get_shape().as_list()[3]])\n",
    "\n",
    "\n",
    "\"\"\"\n",
    "DON'T MODIFY ANYTHING IN THIS CELL THAT IS BELOW THIS LINE\n",
    "\"\"\"\n",
    "tests.test_flatten(flatten)"
   ]
  },
  {
   "cell_type": "markdown",
   "metadata": {
    "deletable": true,
    "editable": true
   },
   "source": [
    "### Fully-Connected Layer\n",
    "Implement the `fully_conn` function to apply a fully connected layer to `x_tensor` with the shape (*Batch Size*, *num_outputs*). Shortcut option: you can use classes from the [TensorFlow Layers](https://www.tensorflow.org/api_docs/python/tf/layers) or [TensorFlow Layers (contrib)](https://www.tensorflow.org/api_guides/python/contrib.layers) packages for this layer. For more of a challenge, only use other TensorFlow packages."
   ]
  },
  {
   "cell_type": "code",
   "execution_count": 133,
   "metadata": {
    "collapsed": false,
    "deletable": true,
    "editable": true
   },
   "outputs": [
    {
     "name": "stdout",
     "output_type": "stream",
     "text": [
      "Tests Passed\n"
     ]
    }
   ],
   "source": [
    "def fully_conn(x_tensor, num_outputs):\n",
    "    \"\"\"\n",
    "    Apply a fully connected layer to x_tensor using weight and bias\n",
    "    : x_tensor: A 2-D tensor where the first dimension is batch size.\n",
    "    : num_outputs: The number of output that the new tensor should be.\n",
    "    : return: A 2-D tensor where the second dimension is num_outputs.\n",
    "    \"\"\"\n",
    "    \n",
    "    return tf.layers.dense(inputs=x_tensor, units=num_outputs, activation=tf.nn.relu)\n",
    "\n",
    "\n",
    "\n",
    "\n",
    "\"\"\"\n",
    "DON'T MODIFY ANYTHING IN THIS CELL THAT IS BELOW THIS LINE\n",
    "\"\"\"\n",
    "tests.test_fully_conn(fully_conn)"
   ]
  },
  {
   "cell_type": "markdown",
   "metadata": {
    "deletable": true,
    "editable": true
   },
   "source": [
    "### Output Layer\n",
    "Implement the `output` function to apply a fully connected layer to `x_tensor` with the shape (*Batch Size*, *num_outputs*). Shortcut option: you can use classes from the [TensorFlow Layers](https://www.tensorflow.org/api_docs/python/tf/layers) or [TensorFlow Layers (contrib)](https://www.tensorflow.org/api_guides/python/contrib.layers) packages for this layer. For more of a challenge, only use other TensorFlow packages.\n",
    "\n",
    "**Note:** Activation, softmax, or cross entropy should **not** be applied to this."
   ]
  },
  {
   "cell_type": "code",
   "execution_count": 135,
   "metadata": {
    "collapsed": false,
    "deletable": true,
    "editable": true
   },
   "outputs": [
    {
     "name": "stdout",
     "output_type": "stream",
     "text": [
      "Tests Passed\n"
     ]
    }
   ],
   "source": [
    "def output(x_tensor, num_outputs):\n",
    "    \"\"\"\n",
    "    Apply a output layer to x_tensor using weight and bias\n",
    "    : x_tensor: A 2-D tensor where the first dimension is batch size.\n",
    "    : num_outputs: The number of output that the new tensor should be.\n",
    "    : return: A 2-D tensor where the second dimension is num_outputs.\n",
    "    \"\"\"\n",
    "    \n",
    "    return tf.layers.dense(inputs=x_tensor, units=num_outputs)\n",
    "\n",
    "\n",
    "\"\"\"\n",
    "DON'T MODIFY ANYTHING IN THIS CELL THAT IS BELOW THIS LINE\n",
    "\"\"\"\n",
    "tests.test_output(output)"
   ]
  },
  {
   "cell_type": "markdown",
   "metadata": {
    "deletable": true,
    "editable": true
   },
   "source": [
    "### Create Convolutional Model\n",
    "Implement the function `conv_net` to create a convolutional neural network model. The function takes in a batch of images, `x`, and outputs logits.  Use the layers you created above to create this model:\n",
    "\n",
    "* Apply 1, 2, or 3 Convolution and Max Pool layers\n",
    "* Apply a Flatten Layer\n",
    "* Apply 1, 2, or 3 Fully Connected Layers\n",
    "* Apply an Output Layer\n",
    "* Return the output\n",
    "* Apply [TensorFlow's Dropout](https://www.tensorflow.org/api_docs/python/tf/nn/dropout) to one or more layers in the model using `keep_prob`. "
   ]
  },
  {
   "cell_type": "code",
   "execution_count": 137,
   "metadata": {
    "collapsed": false,
    "deletable": true,
    "editable": true
   },
   "outputs": [
    {
     "name": "stdout",
     "output_type": "stream",
     "text": [
      "Neural Network Built!\n"
     ]
    }
   ],
   "source": [
    "def conv_net(x, keep_prob):\n",
    "    \"\"\"\n",
    "    Create a convolutional neural network model\n",
    "    : x: Placeholder tensor that holds image data.\n",
    "    : keep_prob: Placeholder tensor that hold dropout keep probability.\n",
    "    : return: Tensor that represents logits\n",
    "    \"\"\"\n",
    "    \n",
    "    #    conv2d_maxpool(x_tensor, conv_num_outputs, conv_ksize, conv_strides, pool_ksize, pool_strides)\n",
    "    conv_num_outputs = 10\n",
    "    conv_ksize = (3,3)\n",
    "    conv_strides = (1,1)\n",
    "    pool_ksize = (2, 2)\n",
    "    pool_strides = (2, 2)\n",
    "    conv_layer = conv2d_maxpool(x, conv_num_outputs, conv_ksize, conv_strides, pool_ksize, pool_strides)\n",
    "    conv_layer = tf.nn.dropout(conv_layer, keep_prob)\n",
    "    \n",
    "\n",
    "    \n",
    "    #   flatten(x_tensor)\n",
    "    flatten_layer = flatten(conv_layer)\n",
    "\n",
    "    \n",
    "    #   fully_conn(x_tensor, num_outputs)\n",
    "    num_outputs = 128\n",
    "    fully_connected = fully_conn(flatten_layer, num_outputs)\n",
    "    num_outputs1 = 64\n",
    "    fully_connected = fully_conn(fully_connected, num_outputs1)\n",
    "    num_outputs2 = 32\n",
    "    fully_connected = fully_conn(fully_connected, num_outputs2)\n",
    "    num_outputs3 = 10\n",
    "   \n",
    "    #   output(x_tensor, num_outputs)\n",
    "    output_layer = output(fully_connected, num_outputs3)\n",
    "    return output_layer\n",
    "\n",
    "\n",
    "\"\"\"\n",
    "DON'T MODIFY ANYTHING IN THIS CELL THAT IS BELOW THIS LINE\n",
    "\"\"\"\n",
    "\n",
    "##############################\n",
    "## Build the Neural Network ##\n",
    "##############################\n",
    "\n",
    "# Remove previous weights, bias, inputs, etc..\n",
    "tf.reset_default_graph()\n",
    "\n",
    "# Inputs\n",
    "x = neural_net_image_input((32, 32, 3))\n",
    "y = neural_net_label_input(10)\n",
    "keep_prob = neural_net_keep_prob_input()\n",
    "\n",
    "# Model\n",
    "logits = conv_net(x, keep_prob)\n",
    "\n",
    "# Name logits Tensor, so that is can be loaded from disk after training\n",
    "logits = tf.identity(logits, name='logits')\n",
    "\n",
    "# Loss and Optimizer\n",
    "cost = tf.reduce_mean(tf.nn.softmax_cross_entropy_with_logits(logits=logits, labels=y))\n",
    "optimizer = tf.train.AdamOptimizer().minimize(cost)\n",
    "\n",
    "# Accuracy\n",
    "correct_pred = tf.equal(tf.argmax(logits, 1), tf.argmax(y, 1))\n",
    "accuracy = tf.reduce_mean(tf.cast(correct_pred, tf.float32), name='accuracy')\n",
    "\n",
    "tests.test_conv_net(conv_net)"
   ]
  },
  {
   "cell_type": "markdown",
   "metadata": {
    "deletable": true,
    "editable": true
   },
   "source": [
    "## Train the Neural Network\n",
    "### Single Optimization\n",
    "Implement the function `train_neural_network` to do a single optimization.  The optimization should use `optimizer` to optimize in `session` with a `feed_dict` of the following:\n",
    "* `x` for image input\n",
    "* `y` for labels\n",
    "* `keep_prob` for keep probability for dropout\n",
    "\n",
    "This function will be called for each batch, so `tf.global_variables_initializer()` has already been called.\n",
    "\n",
    "Note: Nothing needs to be returned. This function is only optimizing the neural network."
   ]
  },
  {
   "cell_type": "code",
   "execution_count": 138,
   "metadata": {
    "collapsed": false,
    "deletable": true,
    "editable": true
   },
   "outputs": [
    {
     "name": "stdout",
     "output_type": "stream",
     "text": [
      "Tests Passed\n"
     ]
    }
   ],
   "source": [
    "def train_neural_network(session, optimizer, keep_probability, feature_batch, label_batch):\n",
    "    \"\"\"\n",
    "    Optimize the session on a batch of images and labels\n",
    "    : session: Current TensorFlow session\n",
    "    : optimizer: TensorFlow optimizer function\n",
    "    : keep_probability: keep probability\n",
    "    : feature_batch: Batch of Numpy image data\n",
    "    : label_batch: Batch of Numpy label data\n",
    "    \"\"\"\n",
    "    # TODO: Implement Function\n",
    "    \n",
    "    session.run(optimizer, feed_dict={x:feature_batch, y:label_batch, keep_prob: keep_probability})\n",
    "    pass\n",
    "\n",
    "\n",
    "\"\"\"\n",
    "DON'T MODIFY ANYTHING IN THIS CELL THAT IS BELOW THIS LINE\n",
    "\"\"\"\n",
    "tests.test_train_nn(train_neural_network)"
   ]
  },
  {
   "cell_type": "markdown",
   "metadata": {
    "deletable": true,
    "editable": true
   },
   "source": [
    "### Show Stats\n",
    "Implement the function `print_stats` to print loss and validation accuracy.  Use the global variables `valid_features` and `valid_labels` to calculate validation accuracy.  Use a keep probability of `1.0` to calculate the loss and validation accuracy."
   ]
  },
  {
   "cell_type": "code",
   "execution_count": 142,
   "metadata": {
    "collapsed": false,
    "deletable": true,
    "editable": true
   },
   "outputs": [],
   "source": [
    "def print_stats(session, feature_batch, label_batch, cost, accuracy):\n",
    "    \"\"\"\n",
    "    Print information about loss and validation accuracy\n",
    "    : session: Current TensorFlow session\n",
    "    : feature_batch: Batch of Numpy image data\n",
    "    : label_batch: Batch of Numpy label data\n",
    "    : cost: TensorFlow cost function\n",
    "    : accuracy: TensorFlow accuracy function\n",
    "    \"\"\"\n",
    "    loss = session.run(cost, feed_dict={x:feature_batch, y:label_batch, keep_prob:1.0})\n",
    "    acc = session.run(accuracy, feed_dict={x:valid_features, y:valid_labels, keep_prob:1.0})\n",
    "    print('Loss at {}'.format(loss), 'Validation Accuracy at {}'.format(acc))\n",
    "    pass"
   ]
  },
  {
   "cell_type": "markdown",
   "metadata": {
    "deletable": true,
    "editable": true
   },
   "source": [
    "### Hyperparameters\n",
    "Tune the following parameters:\n",
    "* Set `epochs` to the number of iterations until the network stops learning or start overfitting\n",
    "* Set `batch_size` to the highest number that your machine has memory for.  Most people set them to common sizes of memory:\n",
    " * 64\n",
    " * 128\n",
    " * 256\n",
    " * ...\n",
    "* Set `keep_probability` to the probability of keeping a node using dropout"
   ]
  },
  {
   "cell_type": "code",
   "execution_count": 143,
   "metadata": {
    "collapsed": true,
    "deletable": true,
    "editable": true
   },
   "outputs": [],
   "source": [
    "epochs = 100\n",
    "batch_size = 256\n",
    "keep_probability = 0.5"
   ]
  },
  {
   "cell_type": "markdown",
   "metadata": {
    "deletable": true,
    "editable": true
   },
   "source": [
    "### Train on a Single CIFAR-10 Batch\n",
    "Instead of training the neural network on all the CIFAR-10 batches of data, let's use a single batch. This should save time while you iterate on the model to get a better accuracy.  Once the final validation accuracy is 50% or greater, run the model on all the data in the next section."
   ]
  },
  {
   "cell_type": "code",
   "execution_count": 141,
   "metadata": {
    "collapsed": false,
    "deletable": true,
    "editable": true
   },
   "outputs": [
    {
     "name": "stdout",
     "output_type": "stream",
     "text": [
      "Checking the Training on a Single Batch...\n",
      "Epoch  1, CIFAR-10 Batch 1:  Loss at 2.2612926959991455 Validation Accuracy at 0.18719998002052307\n",
      "Epoch  2, CIFAR-10 Batch 1:  Loss at 2.0979013442993164 Validation Accuracy at 0.27239999175071716\n",
      "Epoch  3, CIFAR-10 Batch 1:  Loss at 1.9174472093582153 Validation Accuracy at 0.3190000057220459\n",
      "Epoch  4, CIFAR-10 Batch 1:  Loss at 1.8121085166931152 Validation Accuracy at 0.37779995799064636\n",
      "Epoch  5, CIFAR-10 Batch 1:  Loss at 1.6938802003860474 Validation Accuracy at 0.3887999951839447\n",
      "Epoch  6, CIFAR-10 Batch 1:  Loss at 1.5398962497711182 Validation Accuracy at 0.40059998631477356\n",
      "Epoch  7, CIFAR-10 Batch 1:  Loss at 1.39851975440979 Validation Accuracy at 0.41419994831085205\n",
      "Epoch  8, CIFAR-10 Batch 1:  Loss at 1.326624870300293 Validation Accuracy at 0.42499998211860657\n",
      "Epoch  9, CIFAR-10 Batch 1:  Loss at 1.2611736059188843 Validation Accuracy at 0.4358000159263611\n",
      "Epoch 10, CIFAR-10 Batch 1:  Loss at 1.1597802639007568 Validation Accuracy at 0.447799950838089\n",
      "Epoch 11, CIFAR-10 Batch 1:  Loss at 1.1038458347320557 Validation Accuracy at 0.4501999616622925\n",
      "Epoch 12, CIFAR-10 Batch 1:  Loss at 0.9863119125366211 Validation Accuracy at 0.4551999866962433\n",
      "Epoch 13, CIFAR-10 Batch 1:  Loss at 0.929739773273468 Validation Accuracy at 0.4559999704360962\n",
      "Epoch 14, CIFAR-10 Batch 1:  Loss at 0.8453500866889954 Validation Accuracy at 0.46859994530677795\n",
      "Epoch 15, CIFAR-10 Batch 1:  Loss at 0.8114632964134216 Validation Accuracy at 0.4601999521255493\n",
      "Epoch 16, CIFAR-10 Batch 1:  Loss at 0.7579848766326904 Validation Accuracy at 0.4691999554634094\n",
      "Epoch 17, CIFAR-10 Batch 1:  Loss at 0.715431809425354 Validation Accuracy at 0.4691999852657318\n",
      "Epoch 18, CIFAR-10 Batch 1:  Loss at 0.645458459854126 Validation Accuracy at 0.4795999825000763\n",
      "Epoch 19, CIFAR-10 Batch 1:  Loss at 0.6223629713058472 Validation Accuracy at 0.48239994049072266\n",
      "Epoch 20, CIFAR-10 Batch 1:  Loss at 0.586448073387146 Validation Accuracy at 0.4841999411582947\n",
      "Epoch 21, CIFAR-10 Batch 1:  Loss at 0.5274107456207275 Validation Accuracy at 0.4817999601364136\n",
      "Epoch 22, CIFAR-10 Batch 1:  Loss at 0.48529085516929626 Validation Accuracy at 0.49300000071525574\n",
      "Epoch 23, CIFAR-10 Batch 1:  Loss at 0.4709300398826599 Validation Accuracy at 0.4931999444961548\n",
      "Epoch 24, CIFAR-10 Batch 1:  Loss at 0.4186069965362549 Validation Accuracy at 0.4991999864578247\n",
      "Epoch 25, CIFAR-10 Batch 1:  Loss at 0.38190600275993347 Validation Accuracy at 0.49959996342658997\n",
      "Epoch 26, CIFAR-10 Batch 1:  Loss at 0.3733054995536804 Validation Accuracy at 0.5007998943328857\n",
      "Epoch 27, CIFAR-10 Batch 1:  Loss at 0.343677818775177 Validation Accuracy at 0.5021998882293701\n",
      "Epoch 28, CIFAR-10 Batch 1:  Loss at 0.31768128275871277 Validation Accuracy at 0.502799928188324\n",
      "Epoch 29, CIFAR-10 Batch 1:  Loss at 0.29992830753326416 Validation Accuracy at 0.49939996004104614\n",
      "Epoch 30, CIFAR-10 Batch 1:  Loss at 0.2843315005302429 Validation Accuracy at 0.5073999166488647\n",
      "Epoch 31, CIFAR-10 Batch 1:  Loss at 0.2687009572982788 Validation Accuracy at 0.5137999057769775\n",
      "Epoch 32, CIFAR-10 Batch 1:  Loss at 0.23266687989234924 Validation Accuracy at 0.5025999546051025\n",
      "Epoch 33, CIFAR-10 Batch 1:  Loss at 0.23961511254310608 Validation Accuracy at 0.5067999362945557\n",
      "Epoch 34, CIFAR-10 Batch 1:  Loss at 0.21739542484283447 Validation Accuracy at 0.5019999742507935\n",
      "Epoch 35, CIFAR-10 Batch 1:  Loss at 0.20144876837730408 Validation Accuracy at 0.5083999037742615\n",
      "Epoch 36, CIFAR-10 Batch 1:  Loss at 0.19609716534614563 Validation Accuracy at 0.509399950504303\n",
      "Epoch 37, CIFAR-10 Batch 1:  Loss at 0.19488483667373657 Validation Accuracy at 0.5094000101089478\n",
      "Epoch 38, CIFAR-10 Batch 1:  Loss at 0.1594393253326416 Validation Accuracy at 0.5021999478340149\n",
      "Epoch 39, CIFAR-10 Batch 1:  Loss at 0.17275533080101013 Validation Accuracy at 0.5065999627113342\n",
      "Epoch 40, CIFAR-10 Batch 1:  Loss at 0.163918137550354 Validation Accuracy at 0.5059999227523804\n",
      "Epoch 41, CIFAR-10 Batch 1:  Loss at 0.1584160327911377 Validation Accuracy at 0.506399929523468\n",
      "Epoch 42, CIFAR-10 Batch 1:  Loss at 0.13771918416023254 Validation Accuracy at 0.5137999653816223\n",
      "Epoch 43, CIFAR-10 Batch 1:  Loss at 0.1361972987651825 Validation Accuracy at 0.5083999633789062\n",
      "Epoch 44, CIFAR-10 Batch 1:  Loss at 0.12880398333072662 Validation Accuracy at 0.511199951171875\n",
      "Epoch 45, CIFAR-10 Batch 1:  Loss at 0.12786972522735596 Validation Accuracy at 0.5107999444007874\n",
      "Epoch 46, CIFAR-10 Batch 1:  Loss at 0.11828812956809998 Validation Accuracy at 0.5135999917984009\n",
      "Epoch 47, CIFAR-10 Batch 1:  Loss at 0.1077127605676651 Validation Accuracy at 0.5077999830245972\n",
      "Epoch 48, CIFAR-10 Batch 1:  Loss at 0.1006016954779625 Validation Accuracy at 0.5067999362945557\n",
      "Epoch 49, CIFAR-10 Batch 1:  Loss at 0.09475266933441162 Validation Accuracy at 0.5069999694824219\n",
      "Epoch 50, CIFAR-10 Batch 1:  Loss at 0.08649644255638123 Validation Accuracy at 0.5069999694824219\n",
      "Epoch 51, CIFAR-10 Batch 1:  Loss at 0.08072645217180252 Validation Accuracy at 0.5051999092102051\n",
      "Epoch 52, CIFAR-10 Batch 1:  Loss at 0.07244359701871872 Validation Accuracy at 0.5057999491691589\n",
      "Epoch 53, CIFAR-10 Batch 1:  Loss at 0.0735657811164856 Validation Accuracy at 0.5121999979019165\n",
      "Epoch 54, CIFAR-10 Batch 1:  Loss at 0.08148735761642456 Validation Accuracy at 0.5061998963356018\n",
      "Epoch 55, CIFAR-10 Batch 1:  Loss at 0.06729453057050705 Validation Accuracy at 0.49859994649887085\n",
      "Epoch 56, CIFAR-10 Batch 1:  Loss at 0.06698682904243469 Validation Accuracy at 0.504599928855896\n",
      "Epoch 57, CIFAR-10 Batch 1:  Loss at 0.06142040714621544 Validation Accuracy at 0.5095999836921692\n",
      "Epoch 58, CIFAR-10 Batch 1:  Loss at 0.05841286480426788 Validation Accuracy at 0.5023999810218811\n",
      "Epoch 59, CIFAR-10 Batch 1:  Loss at 0.05517350509762764 Validation Accuracy at 0.5119999647140503\n",
      "Epoch 60, CIFAR-10 Batch 1:  Loss at 0.055047012865543365 Validation Accuracy at 0.5097999572753906\n",
      "Epoch 61, CIFAR-10 Batch 1:  Loss at 0.050035275518894196 Validation Accuracy at 0.4997999668121338\n",
      "Epoch 62, CIFAR-10 Batch 1:  Loss at 0.05115864425897598 Validation Accuracy at 0.5043999552726746\n",
      "Epoch 63, CIFAR-10 Batch 1:  Loss at 0.05491584911942482 Validation Accuracy at 0.5047999620437622\n",
      "Epoch 64, CIFAR-10 Batch 1:  Loss at 0.05101560056209564 Validation Accuracy at 0.4949999451637268\n",
      "Epoch 65, CIFAR-10 Batch 1:  Loss at 0.04653402417898178 Validation Accuracy at 0.49439990520477295\n",
      "Epoch 66, CIFAR-10 Batch 1:  Loss at 0.04579806327819824 Validation Accuracy at 0.503600001335144\n",
      "Epoch 67, CIFAR-10 Batch 1:  Loss at 0.040132761001586914 Validation Accuracy at 0.4975999593734741\n",
      "Epoch 68, CIFAR-10 Batch 1:  Loss at 0.043117620050907135 Validation Accuracy at 0.5011999607086182\n",
      "Epoch 69, CIFAR-10 Batch 1:  Loss at 0.037057504057884216 Validation Accuracy at 0.5061998963356018\n",
      "Epoch 70, CIFAR-10 Batch 1:  Loss at 0.04298623651266098 Validation Accuracy at 0.5029999613761902\n",
      "Epoch 71, CIFAR-10 Batch 1:  Loss at 0.03384403884410858 Validation Accuracy at 0.49599993228912354\n",
      "Epoch 72, CIFAR-10 Batch 1:  Loss at 0.03715451434254646 Validation Accuracy at 0.488599956035614\n",
      "Epoch 73, CIFAR-10 Batch 1:  Loss at 0.03575370833277702 Validation Accuracy at 0.4941999912261963\n",
      "Epoch 74, CIFAR-10 Batch 1:  Loss at 0.034535594284534454 Validation Accuracy at 0.5049999356269836\n",
      "Epoch 75, CIFAR-10 Batch 1:  Loss at 0.03230778127908707 Validation Accuracy at 0.4949999451637268\n",
      "Epoch 76, CIFAR-10 Batch 1:  Loss at 0.027916038408875465 Validation Accuracy at 0.5035999417304993\n",
      "Epoch 77, CIFAR-10 Batch 1:  Loss at 0.02882148139178753 Validation Accuracy at 0.5003999471664429\n",
      "Epoch 78, CIFAR-10 Batch 1:  Loss at 0.028551898896694183 Validation Accuracy at 0.5019999146461487\n",
      "Epoch 79, CIFAR-10 Batch 1:  Loss at 0.03322110325098038 Validation Accuracy at 0.4989999532699585\n",
      "Epoch 80, CIFAR-10 Batch 1:  Loss at 0.0280268806964159 Validation Accuracy at 0.49359995126724243\n",
      "Epoch 81, CIFAR-10 Batch 1:  Loss at 0.0218306016176939 Validation Accuracy at 0.5033999681472778\n",
      "Epoch 82, CIFAR-10 Batch 1:  Loss at 0.022601304575800896 Validation Accuracy at 0.5023999214172363\n",
      "Epoch 83, CIFAR-10 Batch 1:  Loss at 0.025837428867816925 Validation Accuracy at 0.4987999200820923\n",
      "Epoch 84, CIFAR-10 Batch 1:  Loss at 0.02261875942349434 Validation Accuracy at 0.4989999234676361\n",
      "Epoch 85, CIFAR-10 Batch 1:  Loss at 0.02416483499109745 Validation Accuracy at 0.501599907875061\n",
      "Epoch 86, CIFAR-10 Batch 1:  Loss at 0.02072276920080185 Validation Accuracy at 0.5062000155448914\n",
      "Epoch 87, CIFAR-10 Batch 1:  Loss at 0.02278231456875801 Validation Accuracy at 0.4989999234676361\n",
      "Epoch 88, CIFAR-10 Batch 1:  Loss at 0.016564305871725082 Validation Accuracy at 0.4989999234676361\n",
      "Epoch 89, CIFAR-10 Batch 1:  Loss at 0.01730465702712536 Validation Accuracy at 0.49939996004104614\n",
      "Epoch 90, CIFAR-10 Batch 1:  Loss at 0.014320885762572289 Validation Accuracy at 0.4989999532699585\n",
      "Epoch 91, CIFAR-10 Batch 1:  Loss at 0.019573723897337914 Validation Accuracy at 0.49519994854927063\n",
      "Epoch 92, CIFAR-10 Batch 1:  Loss at 0.017198078334331512 Validation Accuracy at 0.4943999648094177\n",
      "Epoch 93, CIFAR-10 Batch 1:  Loss at 0.016927102580666542 Validation Accuracy at 0.5055999755859375\n",
      "Epoch 94, CIFAR-10 Batch 1:  Loss at 0.014180449768900871 Validation Accuracy at 0.5025998950004578\n",
      "Epoch 95, CIFAR-10 Batch 1:  Loss at 0.013302305713295937 Validation Accuracy at 0.5049999952316284\n",
      "Epoch 96, CIFAR-10 Batch 1:  Loss at 0.011970343068242073 Validation Accuracy at 0.5013999342918396\n",
      "Epoch 97, CIFAR-10 Batch 1:  Loss at 0.01379803754389286 Validation Accuracy at 0.5077999234199524\n",
      "Epoch 98, CIFAR-10 Batch 1:  Loss at 0.013329321518540382 Validation Accuracy at 0.5019999742507935\n",
      "Epoch 99, CIFAR-10 Batch 1:  Loss at 0.010051248595118523 Validation Accuracy at 0.5069999694824219\n",
      "Epoch 100, CIFAR-10 Batch 1:  Loss at 0.01405488420277834 Validation Accuracy at 0.509399950504303\n"
     ]
    }
   ],
   "source": [
    "\"\"\"\n",
    "DON'T MODIFY ANYTHING IN THIS CELL\n",
    "\"\"\"\n",
    "print('Checking the Training on a Single Batch...')\n",
    "with tf.Session() as sess:\n",
    "    # Initializing the variables\n",
    "    sess.run(tf.global_variables_initializer())\n",
    "    \n",
    "    # Training cycle\n",
    "    for epoch in range(epochs):\n",
    "        batch_i = 1\n",
    "        for batch_features, batch_labels in helper.load_preprocess_training_batch(batch_i, batch_size):\n",
    "            train_neural_network(sess, optimizer, keep_probability, batch_features, batch_labels)\n",
    "        print('Epoch {:>2}, CIFAR-10 Batch {}:  '.format(epoch + 1, batch_i), end='')\n",
    "        print_stats(sess, batch_features, batch_labels, cost, accuracy)"
   ]
  },
  {
   "cell_type": "markdown",
   "metadata": {
    "deletable": true,
    "editable": true
   },
   "source": [
    "### Fully Train the Model\n",
    "Now that you got a good accuracy with a single CIFAR-10 batch, try it with all five batches."
   ]
  },
  {
   "cell_type": "code",
   "execution_count": 144,
   "metadata": {
    "collapsed": false,
    "deletable": true,
    "editable": true
   },
   "outputs": [
    {
     "name": "stdout",
     "output_type": "stream",
     "text": [
      "Training...\n",
      "Epoch  1, CIFAR-10 Batch 1:  Loss at 2.173184871673584 Validation Accuracy at 0.21320000290870667\n",
      "Epoch  1, CIFAR-10 Batch 2:  Loss at 1.8576257228851318 Validation Accuracy at 0.30299997329711914\n",
      "Epoch  1, CIFAR-10 Batch 3:  Loss at 1.7825870513916016 Validation Accuracy at 0.32339999079704285\n",
      "Epoch  1, CIFAR-10 Batch 4:  Loss at 1.7709273099899292 Validation Accuracy at 0.3601999878883362\n",
      "Epoch  1, CIFAR-10 Batch 5:  Loss at 1.6121848821640015 Validation Accuracy at 0.38840001821517944\n",
      "Epoch  2, CIFAR-10 Batch 1:  Loss at 1.832869052886963 Validation Accuracy at 0.40959998965263367\n",
      "Epoch  2, CIFAR-10 Batch 2:  Loss at 1.48883855342865 Validation Accuracy at 0.42139995098114014\n",
      "Epoch  2, CIFAR-10 Batch 3:  Loss at 1.4092650413513184 Validation Accuracy at 0.4197999835014343\n",
      "Epoch  2, CIFAR-10 Batch 4:  Loss at 1.5004504919052124 Validation Accuracy at 0.4472000002861023\n",
      "Epoch  2, CIFAR-10 Batch 5:  Loss at 1.3610813617706299 Validation Accuracy at 0.45979997515678406\n",
      "Epoch  3, CIFAR-10 Batch 1:  Loss at 1.5708791017532349 Validation Accuracy at 0.46859997510910034\n",
      "Epoch  3, CIFAR-10 Batch 2:  Loss at 1.256544589996338 Validation Accuracy at 0.4691999852657318\n",
      "Epoch  3, CIFAR-10 Batch 3:  Loss at 1.1486480236053467 Validation Accuracy at 0.46799999475479126\n",
      "Epoch  3, CIFAR-10 Batch 4:  Loss at 1.2596064805984497 Validation Accuracy at 0.4861999750137329\n",
      "Epoch  3, CIFAR-10 Batch 5:  Loss at 1.2458637952804565 Validation Accuracy at 0.4891999363899231\n",
      "Epoch  4, CIFAR-10 Batch 1:  Loss at 1.4051188230514526 Validation Accuracy at 0.4968000054359436\n",
      "Epoch  4, CIFAR-10 Batch 2:  Loss at 1.0771774053573608 Validation Accuracy at 0.49359995126724243\n",
      "Epoch  4, CIFAR-10 Batch 3:  Loss at 0.9975936412811279 Validation Accuracy at 0.49379992485046387\n",
      "Epoch  4, CIFAR-10 Batch 4:  Loss at 1.1099560260772705 Validation Accuracy at 0.5067999362945557\n",
      "Epoch  4, CIFAR-10 Batch 5:  Loss at 1.1642717123031616 Validation Accuracy at 0.5091999173164368\n",
      "Epoch  5, CIFAR-10 Batch 1:  Loss at 1.2770719528198242 Validation Accuracy at 0.5191999673843384\n",
      "Epoch  5, CIFAR-10 Batch 2:  Loss at 0.9412181377410889 Validation Accuracy at 0.5145999789237976\n",
      "Epoch  5, CIFAR-10 Batch 3:  Loss at 0.9077620506286621 Validation Accuracy at 0.5119999647140503\n",
      "Epoch  5, CIFAR-10 Batch 4:  Loss at 1.018660545349121 Validation Accuracy at 0.5199999213218689\n",
      "Epoch  5, CIFAR-10 Batch 5:  Loss at 1.089375615119934 Validation Accuracy at 0.5273998975753784\n",
      "Epoch  6, CIFAR-10 Batch 1:  Loss at 1.1864219903945923 Validation Accuracy at 0.5283999443054199\n",
      "Epoch  6, CIFAR-10 Batch 2:  Loss at 0.8502894043922424 Validation Accuracy at 0.5245999693870544\n",
      "Epoch  6, CIFAR-10 Batch 3:  Loss at 0.7976807951927185 Validation Accuracy at 0.5263999104499817\n",
      "Epoch  6, CIFAR-10 Batch 4:  Loss at 0.8847365975379944 Validation Accuracy at 0.5343999862670898\n",
      "Epoch  6, CIFAR-10 Batch 5:  Loss at 0.9397158622741699 Validation Accuracy at 0.5379998683929443\n",
      "Epoch  7, CIFAR-10 Batch 1:  Loss at 1.1019434928894043 Validation Accuracy at 0.5455999374389648\n",
      "Epoch  7, CIFAR-10 Batch 2:  Loss at 0.769005537033081 Validation Accuracy at 0.5365999341011047\n",
      "Epoch  7, CIFAR-10 Batch 3:  Loss at 0.7162944674491882 Validation Accuracy at 0.5417999625205994\n",
      "Epoch  7, CIFAR-10 Batch 4:  Loss at 0.7758797407150269 Validation Accuracy at 0.5509999394416809\n",
      "Epoch  7, CIFAR-10 Batch 5:  Loss at 0.8749788403511047 Validation Accuracy at 0.5575999021530151\n",
      "Epoch  8, CIFAR-10 Batch 1:  Loss at 1.0349383354187012 Validation Accuracy at 0.5507999658584595\n",
      "Epoch  8, CIFAR-10 Batch 2:  Loss at 0.6824361085891724 Validation Accuracy at 0.5535998940467834\n",
      "Epoch  8, CIFAR-10 Batch 3:  Loss at 0.6157830953598022 Validation Accuracy at 0.5511999130249023\n",
      "Epoch  8, CIFAR-10 Batch 4:  Loss at 0.7314432859420776 Validation Accuracy at 0.5593999624252319\n",
      "Epoch  8, CIFAR-10 Batch 5:  Loss at 0.7849761843681335 Validation Accuracy at 0.5591999292373657\n",
      "Epoch  9, CIFAR-10 Batch 1:  Loss at 0.9461194276809692 Validation Accuracy at 0.5577999353408813\n",
      "Epoch  9, CIFAR-10 Batch 2:  Loss at 0.650943398475647 Validation Accuracy at 0.5587999224662781\n",
      "Epoch  9, CIFAR-10 Batch 3:  Loss at 0.6107425093650818 Validation Accuracy at 0.5553998947143555\n",
      "Epoch  9, CIFAR-10 Batch 4:  Loss at 0.6662354469299316 Validation Accuracy at 0.5653998851776123\n",
      "Epoch  9, CIFAR-10 Batch 5:  Loss at 0.7479987144470215 Validation Accuracy at 0.5669999122619629\n",
      "Epoch 10, CIFAR-10 Batch 1:  Loss at 0.8738563060760498 Validation Accuracy at 0.5729999542236328\n",
      "Epoch 10, CIFAR-10 Batch 2:  Loss at 0.5822643637657166 Validation Accuracy at 0.5677999258041382\n",
      "Epoch 10, CIFAR-10 Batch 3:  Loss at 0.5843439102172852 Validation Accuracy at 0.5623999238014221\n",
      "Epoch 10, CIFAR-10 Batch 4:  Loss at 0.6065384149551392 Validation Accuracy at 0.5697999000549316\n",
      "Epoch 10, CIFAR-10 Batch 5:  Loss at 0.6772739887237549 Validation Accuracy at 0.5733999609947205\n",
      "Epoch 11, CIFAR-10 Batch 1:  Loss at 0.8064392805099487 Validation Accuracy at 0.582399845123291\n",
      "Epoch 11, CIFAR-10 Batch 2:  Loss at 0.53010094165802 Validation Accuracy at 0.5649999380111694\n",
      "Epoch 11, CIFAR-10 Batch 3:  Loss at 0.5674732327461243 Validation Accuracy at 0.5653999447822571\n",
      "Epoch 11, CIFAR-10 Batch 4:  Loss at 0.5950722694396973 Validation Accuracy at 0.5835999250411987\n",
      "Epoch 11, CIFAR-10 Batch 5:  Loss at 0.6052362322807312 Validation Accuracy at 0.5795998573303223\n",
      "Epoch 12, CIFAR-10 Batch 1:  Loss at 0.7822180390357971 Validation Accuracy at 0.5829999446868896\n",
      "Epoch 12, CIFAR-10 Batch 2:  Loss at 0.5299279093742371 Validation Accuracy at 0.5673999190330505\n",
      "Epoch 12, CIFAR-10 Batch 3:  Loss at 0.49713775515556335 Validation Accuracy at 0.5775998830795288\n",
      "Epoch 12, CIFAR-10 Batch 4:  Loss at 0.5113378763198853 Validation Accuracy at 0.5817998647689819\n",
      "Epoch 12, CIFAR-10 Batch 5:  Loss at 0.5496963262557983 Validation Accuracy at 0.5849999189376831\n",
      "Epoch 13, CIFAR-10 Batch 1:  Loss at 0.6986191272735596 Validation Accuracy at 0.5877999067306519\n",
      "Epoch 13, CIFAR-10 Batch 2:  Loss at 0.46092119812965393 Validation Accuracy at 0.5725999474525452\n",
      "Epoch 13, CIFAR-10 Batch 3:  Loss at 0.4701189398765564 Validation Accuracy at 0.578999936580658\n",
      "Epoch 13, CIFAR-10 Batch 4:  Loss at 0.46608203649520874 Validation Accuracy at 0.5827999114990234\n",
      "Epoch 13, CIFAR-10 Batch 5:  Loss at 0.535266637802124 Validation Accuracy at 0.5977998971939087\n",
      "Epoch 14, CIFAR-10 Batch 1:  Loss at 0.6831938028335571 Validation Accuracy at 0.5859999656677246\n",
      "Epoch 14, CIFAR-10 Batch 2:  Loss at 0.44543373584747314 Validation Accuracy at 0.5769999027252197\n",
      "Epoch 14, CIFAR-10 Batch 3:  Loss at 0.41381943225860596 Validation Accuracy at 0.5767999291419983\n",
      "Epoch 14, CIFAR-10 Batch 4:  Loss at 0.4565792381763458 Validation Accuracy at 0.5951999425888062\n",
      "Epoch 14, CIFAR-10 Batch 5:  Loss at 0.45160970091819763 Validation Accuracy at 0.5895999073982239\n",
      "Epoch 15, CIFAR-10 Batch 1:  Loss at 0.6303600072860718 Validation Accuracy at 0.5961999297142029\n",
      "Epoch 15, CIFAR-10 Batch 2:  Loss at 0.39542195200920105 Validation Accuracy at 0.5765999555587769\n",
      "Epoch 15, CIFAR-10 Batch 3:  Loss at 0.4176959991455078 Validation Accuracy at 0.5855998992919922\n",
      "Epoch 15, CIFAR-10 Batch 4:  Loss at 0.3999320864677429 Validation Accuracy at 0.5917999148368835\n",
      "Epoch 15, CIFAR-10 Batch 5:  Loss at 0.4331609308719635 Validation Accuracy at 0.6017999053001404\n",
      "Epoch 16, CIFAR-10 Batch 1:  Loss at 0.6155036091804504 Validation Accuracy at 0.5955999493598938\n",
      "Epoch 16, CIFAR-10 Batch 2:  Loss at 0.42155155539512634 Validation Accuracy at 0.5873998999595642\n",
      "Epoch 16, CIFAR-10 Batch 3:  Loss at 0.3809126019477844 Validation Accuracy at 0.5907999277114868\n",
      "Epoch 16, CIFAR-10 Batch 4:  Loss at 0.41538193821907043 Validation Accuracy at 0.5939998626708984\n",
      "Epoch 16, CIFAR-10 Batch 5:  Loss at 0.4022076725959778 Validation Accuracy at 0.5921999216079712\n",
      "Epoch 17, CIFAR-10 Batch 1:  Loss at 0.5634037852287292 Validation Accuracy at 0.5997998714447021\n",
      "Epoch 17, CIFAR-10 Batch 2:  Loss at 0.3855462670326233 Validation Accuracy at 0.5741999745368958\n",
      "Epoch 17, CIFAR-10 Batch 3:  Loss at 0.3456459045410156 Validation Accuracy at 0.5947999358177185\n",
      "Epoch 17, CIFAR-10 Batch 4:  Loss at 0.35912811756134033 Validation Accuracy at 0.5963999629020691\n",
      "Epoch 17, CIFAR-10 Batch 5:  Loss at 0.3827638626098633 Validation Accuracy at 0.6017999053001404\n",
      "Epoch 18, CIFAR-10 Batch 1:  Loss at 0.5362962484359741 Validation Accuracy at 0.5977998971939087\n",
      "Epoch 18, CIFAR-10 Batch 2:  Loss at 0.34025025367736816 Validation Accuracy at 0.5869998931884766\n",
      "Epoch 18, CIFAR-10 Batch 3:  Loss at 0.3339291214942932 Validation Accuracy at 0.5911999344825745\n",
      "Epoch 18, CIFAR-10 Batch 4:  Loss at 0.34867268800735474 Validation Accuracy at 0.5957999229431152\n",
      "Epoch 18, CIFAR-10 Batch 5:  Loss at 0.3656597137451172 Validation Accuracy at 0.6017998456954956\n",
      "Epoch 19, CIFAR-10 Batch 1:  Loss at 0.5178297758102417 Validation Accuracy at 0.6043999195098877\n",
      "Epoch 19, CIFAR-10 Batch 2:  Loss at 0.34020376205444336 Validation Accuracy at 0.5771999359130859\n",
      "Epoch 19, CIFAR-10 Batch 3:  Loss at 0.29460909962654114 Validation Accuracy at 0.5993999242782593\n",
      "Epoch 19, CIFAR-10 Batch 4:  Loss at 0.32411354780197144 Validation Accuracy at 0.5989999175071716\n",
      "Epoch 19, CIFAR-10 Batch 5:  Loss at 0.3623959422111511 Validation Accuracy at 0.6029998660087585\n",
      "Epoch 20, CIFAR-10 Batch 1:  Loss at 0.4771249294281006 Validation Accuracy at 0.6007998585700989\n",
      "Epoch 20, CIFAR-10 Batch 2:  Loss at 0.3150970935821533 Validation Accuracy at 0.5815998911857605\n",
      "Epoch 20, CIFAR-10 Batch 3:  Loss at 0.2961065173149109 Validation Accuracy at 0.5983999371528625\n",
      "Epoch 20, CIFAR-10 Batch 4:  Loss at 0.31623372435569763 Validation Accuracy at 0.6009999513626099\n",
      "Epoch 20, CIFAR-10 Batch 5:  Loss at 0.33783578872680664 Validation Accuracy at 0.6017999053001404\n",
      "Epoch 21, CIFAR-10 Batch 1:  Loss at 0.47055530548095703 Validation Accuracy at 0.6055998802185059\n",
      "Epoch 21, CIFAR-10 Batch 2:  Loss at 0.30043646693229675 Validation Accuracy at 0.5949999094009399\n",
      "Epoch 21, CIFAR-10 Batch 3:  Loss at 0.2908807396888733 Validation Accuracy at 0.599399983882904\n",
      "Epoch 21, CIFAR-10 Batch 4:  Loss at 0.3044874370098114 Validation Accuracy at 0.6043999195098877\n",
      "Epoch 21, CIFAR-10 Batch 5:  Loss at 0.3216082453727722 Validation Accuracy at 0.6047998666763306\n",
      "Epoch 22, CIFAR-10 Batch 1:  Loss at 0.4520668387413025 Validation Accuracy at 0.6035999059677124\n",
      "Epoch 22, CIFAR-10 Batch 2:  Loss at 0.27363312244415283 Validation Accuracy at 0.5937999486923218\n",
      "Epoch 22, CIFAR-10 Batch 3:  Loss at 0.23905538022518158 Validation Accuracy at 0.6011999845504761\n",
      "Epoch 22, CIFAR-10 Batch 4:  Loss at 0.29784828424453735 Validation Accuracy at 0.6077998876571655\n",
      "Epoch 22, CIFAR-10 Batch 5:  Loss at 0.3021601438522339 Validation Accuracy at 0.6005998849868774\n",
      "Epoch 23, CIFAR-10 Batch 1:  Loss at 0.4252949059009552 Validation Accuracy at 0.6093999147415161\n",
      "Epoch 23, CIFAR-10 Batch 2:  Loss at 0.25581419467926025 Validation Accuracy at 0.586199939250946\n",
      "Epoch 23, CIFAR-10 Batch 3:  Loss at 0.24355167150497437 Validation Accuracy at 0.5995998978614807\n",
      "Epoch 23, CIFAR-10 Batch 4:  Loss at 0.2817944288253784 Validation Accuracy at 0.6023999452590942\n",
      "Epoch 23, CIFAR-10 Batch 5:  Loss at 0.27471011877059937 Validation Accuracy at 0.6093999743461609\n",
      "Epoch 24, CIFAR-10 Batch 1:  Loss at 0.3943841755390167 Validation Accuracy at 0.6085999011993408\n",
      "Epoch 24, CIFAR-10 Batch 2:  Loss at 0.256696879863739 Validation Accuracy at 0.5977998971939087\n",
      "Epoch 24, CIFAR-10 Batch 3:  Loss at 0.22650882601737976 Validation Accuracy at 0.6037998795509338\n",
      "Epoch 24, CIFAR-10 Batch 4:  Loss at 0.2698749303817749 Validation Accuracy at 0.606999933719635\n",
      "Epoch 24, CIFAR-10 Batch 5:  Loss at 0.2758919298648834 Validation Accuracy at 0.6013998985290527\n",
      "Epoch 25, CIFAR-10 Batch 1:  Loss at 0.37716928124427795 Validation Accuracy at 0.6085999011993408\n",
      "Epoch 25, CIFAR-10 Batch 2:  Loss at 0.236224964261055 Validation Accuracy at 0.5991998910903931\n",
      "Epoch 25, CIFAR-10 Batch 3:  Loss at 0.20652036368846893 Validation Accuracy at 0.6029999256134033\n",
      "Epoch 25, CIFAR-10 Batch 4:  Loss at 0.26405179500579834 Validation Accuracy at 0.6057999134063721\n",
      "Epoch 25, CIFAR-10 Batch 5:  Loss at 0.2623116075992584 Validation Accuracy at 0.6035999059677124\n",
      "Epoch 26, CIFAR-10 Batch 1:  Loss at 0.3630426526069641 Validation Accuracy at 0.6141999363899231\n",
      "Epoch 26, CIFAR-10 Batch 2:  Loss at 0.23335132002830505 Validation Accuracy at 0.5961998701095581\n",
      "Epoch 26, CIFAR-10 Batch 3:  Loss at 0.20190531015396118 Validation Accuracy at 0.6047999262809753\n",
      "Epoch 26, CIFAR-10 Batch 4:  Loss at 0.25868886709213257 Validation Accuracy at 0.608799934387207\n",
      "Epoch 26, CIFAR-10 Batch 5:  Loss at 0.25406354665756226 Validation Accuracy at 0.6037999391555786\n",
      "Epoch 27, CIFAR-10 Batch 1:  Loss at 0.34017837047576904 Validation Accuracy at 0.6119999289512634\n",
      "Epoch 27, CIFAR-10 Batch 2:  Loss at 0.2323920726776123 Validation Accuracy at 0.601599931716919\n",
      "Epoch 27, CIFAR-10 Batch 3:  Loss at 0.1992015540599823 Validation Accuracy at 0.6049998998641968\n",
      "Epoch 27, CIFAR-10 Batch 4:  Loss at 0.2429288923740387 Validation Accuracy at 0.6075998544692993\n",
      "Epoch 27, CIFAR-10 Batch 5:  Loss at 0.22735784947872162 Validation Accuracy at 0.6041998863220215\n",
      "Epoch 28, CIFAR-10 Batch 1:  Loss at 0.3572663366794586 Validation Accuracy at 0.6133999228477478\n",
      "Epoch 28, CIFAR-10 Batch 2:  Loss at 0.19631151854991913 Validation Accuracy at 0.5977998971939087\n",
      "Epoch 28, CIFAR-10 Batch 3:  Loss at 0.20367927849292755 Validation Accuracy at 0.600399911403656\n",
      "Epoch 28, CIFAR-10 Batch 4:  Loss at 0.2481054812669754 Validation Accuracy at 0.6107998490333557\n",
      "Epoch 28, CIFAR-10 Batch 5:  Loss at 0.24298200011253357 Validation Accuracy at 0.607999861240387\n",
      "Epoch 29, CIFAR-10 Batch 1:  Loss at 0.34699034690856934 Validation Accuracy at 0.6135998964309692\n",
      "Epoch 29, CIFAR-10 Batch 2:  Loss at 0.19970671832561493 Validation Accuracy at 0.6049999594688416\n",
      "Epoch 29, CIFAR-10 Batch 3:  Loss at 0.1783628612756729 Validation Accuracy at 0.6073999404907227\n",
      "Epoch 29, CIFAR-10 Batch 4:  Loss at 0.2337321639060974 Validation Accuracy at 0.6099998950958252\n",
      "Epoch 29, CIFAR-10 Batch 5:  Loss at 0.2330099642276764 Validation Accuracy at 0.6093999147415161\n",
      "Epoch 30, CIFAR-10 Batch 1:  Loss at 0.3554215431213379 Validation Accuracy at 0.6077999472618103\n",
      "Epoch 30, CIFAR-10 Batch 2:  Loss at 0.19431078433990479 Validation Accuracy at 0.5985999703407288\n",
      "Epoch 30, CIFAR-10 Batch 3:  Loss at 0.18560361862182617 Validation Accuracy at 0.6073999404907227\n",
      "Epoch 30, CIFAR-10 Batch 4:  Loss at 0.21962015330791473 Validation Accuracy at 0.6119998693466187\n",
      "Epoch 30, CIFAR-10 Batch 5:  Loss at 0.2280711978673935 Validation Accuracy at 0.6107999682426453\n",
      "Epoch 31, CIFAR-10 Batch 1:  Loss at 0.3433723747730255 Validation Accuracy at 0.6107999086380005\n",
      "Epoch 31, CIFAR-10 Batch 2:  Loss at 0.18322648108005524 Validation Accuracy at 0.6009999513626099\n",
      "Epoch 31, CIFAR-10 Batch 3:  Loss at 0.17419761419296265 Validation Accuracy at 0.6067999601364136\n",
      "Epoch 31, CIFAR-10 Batch 4:  Loss at 0.20995017886161804 Validation Accuracy at 0.6223998665809631\n",
      "Epoch 31, CIFAR-10 Batch 5:  Loss at 0.22054722905158997 Validation Accuracy at 0.6097999215126038\n",
      "Epoch 32, CIFAR-10 Batch 1:  Loss at 0.32431381940841675 Validation Accuracy at 0.6149999499320984\n",
      "Epoch 32, CIFAR-10 Batch 2:  Loss at 0.19248691201210022 Validation Accuracy at 0.6115999221801758\n",
      "Epoch 32, CIFAR-10 Batch 3:  Loss at 0.15514183044433594 Validation Accuracy at 0.6037999391555786\n",
      "Epoch 32, CIFAR-10 Batch 4:  Loss at 0.21633999049663544 Validation Accuracy at 0.6171998977661133\n",
      "Epoch 32, CIFAR-10 Batch 5:  Loss at 0.18914997577667236 Validation Accuracy at 0.6115999221801758\n",
      "Epoch 33, CIFAR-10 Batch 1:  Loss at 0.3084705173969269 Validation Accuracy at 0.6177998781204224\n",
      "Epoch 33, CIFAR-10 Batch 2:  Loss at 0.16382190585136414 Validation Accuracy at 0.6083999872207642\n",
      "Epoch 33, CIFAR-10 Batch 3:  Loss at 0.1518010050058365 Validation Accuracy at 0.6121999025344849\n",
      "Epoch 33, CIFAR-10 Batch 4:  Loss at 0.20381852984428406 Validation Accuracy at 0.6103999018669128\n",
      "Epoch 33, CIFAR-10 Batch 5:  Loss at 0.18828438222408295 Validation Accuracy at 0.6145999431610107\n",
      "Epoch 34, CIFAR-10 Batch 1:  Loss at 0.2894669771194458 Validation Accuracy at 0.6123999357223511\n",
      "Epoch 34, CIFAR-10 Batch 2:  Loss at 0.150767520070076 Validation Accuracy at 0.612799882888794\n",
      "Epoch 34, CIFAR-10 Batch 3:  Loss at 0.1341426819562912 Validation Accuracy at 0.6123999357223511\n",
      "Epoch 34, CIFAR-10 Batch 4:  Loss at 0.21123841404914856 Validation Accuracy at 0.6147999167442322\n",
      "Epoch 34, CIFAR-10 Batch 5:  Loss at 0.1770644187927246 Validation Accuracy at 0.6121999025344849\n",
      "Epoch 35, CIFAR-10 Batch 1:  Loss at 0.2760557532310486 Validation Accuracy at 0.6197998523712158\n",
      "Epoch 35, CIFAR-10 Batch 2:  Loss at 0.14398379623889923 Validation Accuracy at 0.605199933052063\n",
      "Epoch 35, CIFAR-10 Batch 3:  Loss at 0.1421249359846115 Validation Accuracy at 0.6099998950958252\n",
      "Epoch 35, CIFAR-10 Batch 4:  Loss at 0.22070074081420898 Validation Accuracy at 0.6169999241828918\n",
      "Epoch 35, CIFAR-10 Batch 5:  Loss at 0.15397082269191742 Validation Accuracy at 0.6089999079704285\n",
      "Epoch 36, CIFAR-10 Batch 1:  Loss at 0.26870131492614746 Validation Accuracy at 0.6187998652458191\n",
      "Epoch 36, CIFAR-10 Batch 2:  Loss at 0.14159336686134338 Validation Accuracy at 0.6055998802185059\n",
      "Epoch 36, CIFAR-10 Batch 3:  Loss at 0.13726042211055756 Validation Accuracy at 0.6083998680114746\n",
      "Epoch 36, CIFAR-10 Batch 4:  Loss at 0.20065677165985107 Validation Accuracy at 0.6143999099731445\n",
      "Epoch 36, CIFAR-10 Batch 5:  Loss at 0.15860943496227264 Validation Accuracy at 0.6119998693466187\n",
      "Epoch 37, CIFAR-10 Batch 1:  Loss at 0.24770528078079224 Validation Accuracy at 0.615399956703186\n",
      "Epoch 37, CIFAR-10 Batch 2:  Loss at 0.12459932267665863 Validation Accuracy at 0.6013998985290527\n",
      "Epoch 37, CIFAR-10 Batch 3:  Loss at 0.14637480676174164 Validation Accuracy at 0.6065999269485474\n",
      "Epoch 37, CIFAR-10 Batch 4:  Loss at 0.20407330989837646 Validation Accuracy at 0.6147998571395874\n",
      "Epoch 37, CIFAR-10 Batch 5:  Loss at 0.16708649694919586 Validation Accuracy at 0.6173999309539795\n",
      "Epoch 38, CIFAR-10 Batch 1:  Loss at 0.25391504168510437 Validation Accuracy at 0.6183999180793762\n",
      "Epoch 38, CIFAR-10 Batch 2:  Loss at 0.1215546578168869 Validation Accuracy at 0.6051998734474182\n",
      "Epoch 38, CIFAR-10 Batch 3:  Loss at 0.13773779571056366 Validation Accuracy at 0.6107999086380005\n",
      "Epoch 38, CIFAR-10 Batch 4:  Loss at 0.16851142048835754 Validation Accuracy at 0.6109999418258667\n",
      "Epoch 38, CIFAR-10 Batch 5:  Loss at 0.17265889048576355 Validation Accuracy at 0.6133999824523926\n",
      "Epoch 39, CIFAR-10 Batch 1:  Loss at 0.2532777190208435 Validation Accuracy at 0.6189998984336853\n",
      "Epoch 39, CIFAR-10 Batch 2:  Loss at 0.13115215301513672 Validation Accuracy at 0.6071999073028564\n",
      "Epoch 39, CIFAR-10 Batch 3:  Loss at 0.1360221654176712 Validation Accuracy at 0.6095999479293823\n",
      "Epoch 39, CIFAR-10 Batch 4:  Loss at 0.1779816746711731 Validation Accuracy at 0.616399884223938\n",
      "Epoch 39, CIFAR-10 Batch 5:  Loss at 0.15924794971942902 Validation Accuracy at 0.6157999038696289\n",
      "Epoch 40, CIFAR-10 Batch 1:  Loss at 0.24151360988616943 Validation Accuracy at 0.6189998984336853\n",
      "Epoch 40, CIFAR-10 Batch 2:  Loss at 0.11863569915294647 Validation Accuracy at 0.6105998754501343\n",
      "Epoch 40, CIFAR-10 Batch 3:  Loss at 0.13596460223197937 Validation Accuracy at 0.6103999018669128\n",
      "Epoch 40, CIFAR-10 Batch 4:  Loss at 0.17306602001190186 Validation Accuracy at 0.6139999032020569\n",
      "Epoch 40, CIFAR-10 Batch 5:  Loss at 0.14156898856163025 Validation Accuracy at 0.6139999032020569\n",
      "Epoch 41, CIFAR-10 Batch 1:  Loss at 0.22056277096271515 Validation Accuracy at 0.6173999309539795\n",
      "Epoch 41, CIFAR-10 Batch 2:  Loss at 0.12243016064167023 Validation Accuracy at 0.614799976348877\n",
      "Epoch 41, CIFAR-10 Batch 3:  Loss at 0.12970739603042603 Validation Accuracy at 0.6117998957633972\n",
      "Epoch 41, CIFAR-10 Batch 4:  Loss at 0.1684994250535965 Validation Accuracy at 0.6157999038696289\n",
      "Epoch 41, CIFAR-10 Batch 5:  Loss at 0.14751628041267395 Validation Accuracy at 0.6121999025344849\n",
      "Epoch 42, CIFAR-10 Batch 1:  Loss at 0.2340877503156662 Validation Accuracy at 0.6203998923301697\n",
      "Epoch 42, CIFAR-10 Batch 2:  Loss at 0.11114619672298431 Validation Accuracy at 0.6079999208450317\n",
      "Epoch 42, CIFAR-10 Batch 3:  Loss at 0.11502181738615036 Validation Accuracy at 0.6111998558044434\n",
      "Epoch 42, CIFAR-10 Batch 4:  Loss at 0.1698770523071289 Validation Accuracy at 0.6167998909950256\n",
      "Epoch 42, CIFAR-10 Batch 5:  Loss at 0.15422211587429047 Validation Accuracy at 0.6123999357223511\n",
      "Epoch 43, CIFAR-10 Batch 1:  Loss at 0.22719597816467285 Validation Accuracy at 0.6151999235153198\n",
      "Epoch 43, CIFAR-10 Batch 2:  Loss at 0.10487905144691467 Validation Accuracy at 0.6051998734474182\n",
      "Epoch 43, CIFAR-10 Batch 3:  Loss at 0.11877317726612091 Validation Accuracy at 0.6131998896598816\n",
      "Epoch 43, CIFAR-10 Batch 4:  Loss at 0.1665513813495636 Validation Accuracy at 0.6159998774528503\n",
      "Epoch 43, CIFAR-10 Batch 5:  Loss at 0.13970552384853363 Validation Accuracy at 0.6167998909950256\n",
      "Epoch 44, CIFAR-10 Batch 1:  Loss at 0.22329360246658325 Validation Accuracy at 0.6195999383926392\n",
      "Epoch 44, CIFAR-10 Batch 2:  Loss at 0.10578981041908264 Validation Accuracy at 0.6107999086380005\n",
      "Epoch 44, CIFAR-10 Batch 3:  Loss at 0.11443676054477692 Validation Accuracy at 0.6173998713493347\n",
      "Epoch 44, CIFAR-10 Batch 4:  Loss at 0.15740053355693817 Validation Accuracy at 0.619999885559082\n",
      "Epoch 44, CIFAR-10 Batch 5:  Loss at 0.138624906539917 Validation Accuracy at 0.614799976348877\n",
      "Epoch 45, CIFAR-10 Batch 1:  Loss at 0.21261243522167206 Validation Accuracy at 0.6203998327255249\n",
      "Epoch 45, CIFAR-10 Batch 2:  Loss at 0.09529411792755127 Validation Accuracy at 0.6117998957633972\n",
      "Epoch 45, CIFAR-10 Batch 3:  Loss at 0.11806822568178177 Validation Accuracy at 0.6101999282836914\n",
      "Epoch 45, CIFAR-10 Batch 4:  Loss at 0.15880003571510315 Validation Accuracy at 0.6207998991012573\n",
      "Epoch 45, CIFAR-10 Batch 5:  Loss at 0.1324940174818039 Validation Accuracy at 0.6137998700141907\n",
      "Epoch 46, CIFAR-10 Batch 1:  Loss at 0.21246427297592163 Validation Accuracy at 0.6161998510360718\n",
      "Epoch 46, CIFAR-10 Batch 2:  Loss at 0.10985534638166428 Validation Accuracy at 0.6157999038696289\n",
      "Epoch 46, CIFAR-10 Batch 3:  Loss at 0.11908036470413208 Validation Accuracy at 0.60999995470047\n",
      "Epoch 46, CIFAR-10 Batch 4:  Loss at 0.14000913500785828 Validation Accuracy at 0.6207998991012573\n",
      "Epoch 46, CIFAR-10 Batch 5:  Loss at 0.12131576985120773 Validation Accuracy at 0.6147999167442322\n",
      "Epoch 47, CIFAR-10 Batch 1:  Loss at 0.2099713385105133 Validation Accuracy at 0.6219999194145203\n",
      "Epoch 47, CIFAR-10 Batch 2:  Loss at 0.09740446507930756 Validation Accuracy at 0.6083999872207642\n",
      "Epoch 47, CIFAR-10 Batch 3:  Loss at 0.12131334841251373 Validation Accuracy at 0.6131999492645264\n",
      "Epoch 47, CIFAR-10 Batch 4:  Loss at 0.15298888087272644 Validation Accuracy at 0.6213999390602112\n",
      "Epoch 47, CIFAR-10 Batch 5:  Loss at 0.11822091788053513 Validation Accuracy at 0.6157999038696289\n",
      "Epoch 48, CIFAR-10 Batch 1:  Loss at 0.17647206783294678 Validation Accuracy at 0.6195999383926392\n",
      "Epoch 48, CIFAR-10 Batch 2:  Loss at 0.09233902394771576 Validation Accuracy at 0.608199954032898\n",
      "Epoch 48, CIFAR-10 Batch 3:  Loss at 0.1112942099571228 Validation Accuracy at 0.6113999485969543\n",
      "Epoch 48, CIFAR-10 Batch 4:  Loss at 0.13990715146064758 Validation Accuracy at 0.6137999296188354\n",
      "Epoch 48, CIFAR-10 Batch 5:  Loss at 0.1246432363986969 Validation Accuracy at 0.6169998645782471\n",
      "Epoch 49, CIFAR-10 Batch 1:  Loss at 0.17889127135276794 Validation Accuracy at 0.6171999573707581\n",
      "Epoch 49, CIFAR-10 Batch 2:  Loss at 0.09138065576553345 Validation Accuracy at 0.6097999215126038\n",
      "Epoch 49, CIFAR-10 Batch 3:  Loss at 0.11188699305057526 Validation Accuracy at 0.6151999235153198\n",
      "Epoch 49, CIFAR-10 Batch 4:  Loss at 0.12716004252433777 Validation Accuracy at 0.619399905204773\n",
      "Epoch 49, CIFAR-10 Batch 5:  Loss at 0.11231300979852676 Validation Accuracy at 0.6123999357223511\n",
      "Epoch 50, CIFAR-10 Batch 1:  Loss at 0.20595595240592957 Validation Accuracy at 0.6179998517036438\n",
      "Epoch 50, CIFAR-10 Batch 2:  Loss at 0.09844239056110382 Validation Accuracy at 0.6091998815536499\n",
      "Epoch 50, CIFAR-10 Batch 3:  Loss at 0.09604395180940628 Validation Accuracy at 0.6159999370574951\n",
      "Epoch 50, CIFAR-10 Batch 4:  Loss at 0.11332067102193832 Validation Accuracy at 0.6225999593734741\n",
      "Epoch 50, CIFAR-10 Batch 5:  Loss at 0.10020186007022858 Validation Accuracy at 0.6151999235153198\n",
      "Epoch 51, CIFAR-10 Batch 1:  Loss at 0.19267211854457855 Validation Accuracy at 0.6179999113082886\n",
      "Epoch 51, CIFAR-10 Batch 2:  Loss at 0.10218580812215805 Validation Accuracy at 0.6063998937606812\n",
      "Epoch 51, CIFAR-10 Batch 3:  Loss at 0.0935603529214859 Validation Accuracy at 0.6151999235153198\n",
      "Epoch 51, CIFAR-10 Batch 4:  Loss at 0.09606093168258667 Validation Accuracy at 0.6201999187469482\n",
      "Epoch 51, CIFAR-10 Batch 5:  Loss at 0.1147412657737732 Validation Accuracy at 0.6109999418258667\n",
      "Epoch 52, CIFAR-10 Batch 1:  Loss at 0.18112997710704803 Validation Accuracy at 0.6195999383926392\n",
      "Epoch 52, CIFAR-10 Batch 2:  Loss at 0.09219256043434143 Validation Accuracy at 0.6133999228477478\n",
      "Epoch 52, CIFAR-10 Batch 3:  Loss at 0.1011791005730629 Validation Accuracy at 0.6201998591423035\n",
      "Epoch 52, CIFAR-10 Batch 4:  Loss at 0.11774222552776337 Validation Accuracy at 0.6191998720169067\n",
      "Epoch 52, CIFAR-10 Batch 5:  Loss at 0.10895399749279022 Validation Accuracy at 0.6179999113082886\n",
      "Epoch 53, CIFAR-10 Batch 1:  Loss at 0.1792706549167633 Validation Accuracy at 0.6175999641418457\n",
      "Epoch 53, CIFAR-10 Batch 2:  Loss at 0.08098543435335159 Validation Accuracy at 0.6135998964309692\n",
      "Epoch 53, CIFAR-10 Batch 3:  Loss at 0.08850192278623581 Validation Accuracy at 0.6183999180793762\n",
      "Epoch 53, CIFAR-10 Batch 4:  Loss at 0.11152234673500061 Validation Accuracy at 0.6269998550415039\n",
      "Epoch 53, CIFAR-10 Batch 5:  Loss at 0.1054147258400917 Validation Accuracy at 0.6235998868942261\n",
      "Epoch 54, CIFAR-10 Batch 1:  Loss at 0.16104988753795624 Validation Accuracy at 0.6201999187469482\n",
      "Epoch 54, CIFAR-10 Batch 2:  Loss at 0.08901918679475784 Validation Accuracy at 0.6089999079704285\n",
      "Epoch 54, CIFAR-10 Batch 3:  Loss at 0.10824104398488998 Validation Accuracy at 0.6249998807907104\n",
      "Epoch 54, CIFAR-10 Batch 4:  Loss at 0.09917297214269638 Validation Accuracy at 0.6215999126434326\n",
      "Epoch 54, CIFAR-10 Batch 5:  Loss at 0.10729202628135681 Validation Accuracy at 0.6143999099731445\n",
      "Epoch 55, CIFAR-10 Batch 1:  Loss at 0.1590743511915207 Validation Accuracy at 0.6163999438285828\n",
      "Epoch 55, CIFAR-10 Batch 2:  Loss at 0.0769701674580574 Validation Accuracy at 0.6149998903274536\n",
      "Epoch 55, CIFAR-10 Batch 3:  Loss at 0.09803495556116104 Validation Accuracy at 0.6155999898910522\n",
      "Epoch 55, CIFAR-10 Batch 4:  Loss at 0.1043720468878746 Validation Accuracy at 0.6231998205184937\n",
      "Epoch 55, CIFAR-10 Batch 5:  Loss at 0.09746546298265457 Validation Accuracy at 0.6195998787879944\n",
      "Epoch 56, CIFAR-10 Batch 1:  Loss at 0.15788021683692932 Validation Accuracy at 0.6213999390602112\n",
      "Epoch 56, CIFAR-10 Batch 2:  Loss at 0.06883952766656876 Validation Accuracy at 0.6089999079704285\n",
      "Epoch 56, CIFAR-10 Batch 3:  Loss at 0.097315713763237 Validation Accuracy at 0.6245998740196228\n",
      "Epoch 56, CIFAR-10 Batch 4:  Loss at 0.10391709208488464 Validation Accuracy at 0.6245999336242676\n",
      "Epoch 56, CIFAR-10 Batch 5:  Loss at 0.09869374334812164 Validation Accuracy at 0.6153998970985413\n",
      "Epoch 57, CIFAR-10 Batch 1:  Loss at 0.1484246402978897 Validation Accuracy at 0.622999906539917\n",
      "Epoch 57, CIFAR-10 Batch 2:  Loss at 0.07786603271961212 Validation Accuracy at 0.6183999180793762\n",
      "Epoch 57, CIFAR-10 Batch 3:  Loss at 0.10480880737304688 Validation Accuracy at 0.6171998977661133\n",
      "Epoch 57, CIFAR-10 Batch 4:  Loss at 0.10136938840150833 Validation Accuracy at 0.6241998672485352\n",
      "Epoch 57, CIFAR-10 Batch 5:  Loss at 0.0958331972360611 Validation Accuracy at 0.6183999180793762\n",
      "Epoch 58, CIFAR-10 Batch 1:  Loss at 0.15247711539268494 Validation Accuracy at 0.6203998923301697\n",
      "Epoch 58, CIFAR-10 Batch 2:  Loss at 0.07120595872402191 Validation Accuracy at 0.6131999492645264\n",
      "Epoch 58, CIFAR-10 Batch 3:  Loss at 0.09272365272045135 Validation Accuracy at 0.621199905872345\n",
      "Epoch 58, CIFAR-10 Batch 4:  Loss at 0.09414243698120117 Validation Accuracy at 0.6269999146461487\n",
      "Epoch 58, CIFAR-10 Batch 5:  Loss at 0.09933684021234512 Validation Accuracy at 0.6219999194145203\n",
      "Epoch 59, CIFAR-10 Batch 1:  Loss at 0.1569807231426239 Validation Accuracy at 0.6161999106407166\n",
      "Epoch 59, CIFAR-10 Batch 2:  Loss at 0.07000182569026947 Validation Accuracy at 0.6191999316215515\n",
      "Epoch 59, CIFAR-10 Batch 3:  Loss at 0.0856139212846756 Validation Accuracy at 0.6185999512672424\n",
      "Epoch 59, CIFAR-10 Batch 4:  Loss at 0.09917251765727997 Validation Accuracy at 0.6207999587059021\n",
      "Epoch 59, CIFAR-10 Batch 5:  Loss at 0.0880722925066948 Validation Accuracy at 0.6201999187469482\n",
      "Epoch 60, CIFAR-10 Batch 1:  Loss at 0.13854371011257172 Validation Accuracy at 0.6173999309539795\n",
      "Epoch 60, CIFAR-10 Batch 2:  Loss at 0.07407211512327194 Validation Accuracy at 0.609799861907959\n",
      "Epoch 60, CIFAR-10 Batch 3:  Loss at 0.09450055658817291 Validation Accuracy at 0.6137998700141907\n",
      "Epoch 60, CIFAR-10 Batch 4:  Loss at 0.07738666236400604 Validation Accuracy at 0.6231999397277832\n",
      "Epoch 60, CIFAR-10 Batch 5:  Loss at 0.09654491394758224 Validation Accuracy at 0.620199978351593\n",
      "Epoch 61, CIFAR-10 Batch 1:  Loss at 0.13695970177650452 Validation Accuracy at 0.622999906539917\n",
      "Epoch 61, CIFAR-10 Batch 2:  Loss at 0.06589029729366302 Validation Accuracy at 0.6129999160766602\n",
      "Epoch 61, CIFAR-10 Batch 3:  Loss at 0.08912362903356552 Validation Accuracy at 0.6179999113082886\n",
      "Epoch 61, CIFAR-10 Batch 4:  Loss at 0.08451097458600998 Validation Accuracy at 0.6253999471664429\n",
      "Epoch 61, CIFAR-10 Batch 5:  Loss at 0.08475904166698456 Validation Accuracy at 0.6223998665809631\n",
      "Epoch 62, CIFAR-10 Batch 1:  Loss at 0.1283736675977707 Validation Accuracy at 0.6171998977661133\n",
      "Epoch 62, CIFAR-10 Batch 2:  Loss at 0.0704561322927475 Validation Accuracy at 0.6123998761177063\n",
      "Epoch 62, CIFAR-10 Batch 3:  Loss at 0.09286037087440491 Validation Accuracy at 0.619999885559082\n",
      "Epoch 62, CIFAR-10 Batch 4:  Loss at 0.08756732195615768 Validation Accuracy at 0.6239998936653137\n",
      "Epoch 62, CIFAR-10 Batch 5:  Loss at 0.08017970621585846 Validation Accuracy at 0.6205999255180359\n",
      "Epoch 63, CIFAR-10 Batch 1:  Loss at 0.13808029890060425 Validation Accuracy at 0.6231998205184937\n",
      "Epoch 63, CIFAR-10 Batch 2:  Loss at 0.059819698333740234 Validation Accuracy at 0.6139999032020569\n",
      "Epoch 63, CIFAR-10 Batch 3:  Loss at 0.0877811461687088 Validation Accuracy at 0.6157999038696289\n",
      "Epoch 63, CIFAR-10 Batch 4:  Loss at 0.07762515544891357 Validation Accuracy at 0.624799907207489\n",
      "Epoch 63, CIFAR-10 Batch 5:  Loss at 0.07986170053482056 Validation Accuracy at 0.6231998801231384\n",
      "Epoch 64, CIFAR-10 Batch 1:  Loss at 0.12810419499874115 Validation Accuracy at 0.6187999248504639\n",
      "Epoch 64, CIFAR-10 Batch 2:  Loss at 0.05897293612360954 Validation Accuracy at 0.612799882888794\n",
      "Epoch 64, CIFAR-10 Batch 3:  Loss at 0.07672957330942154 Validation Accuracy at 0.6181999444961548\n",
      "Epoch 64, CIFAR-10 Batch 4:  Loss at 0.08260594308376312 Validation Accuracy at 0.6183999180793762\n",
      "Epoch 64, CIFAR-10 Batch 5:  Loss at 0.07880473136901855 Validation Accuracy at 0.6111999154090881\n",
      "Epoch 65, CIFAR-10 Batch 1:  Loss at 0.13469958305358887 Validation Accuracy at 0.6185998916625977\n",
      "Epoch 65, CIFAR-10 Batch 2:  Loss at 0.06013276427984238 Validation Accuracy at 0.6137998700141907\n",
      "Epoch 65, CIFAR-10 Batch 3:  Loss at 0.0722004696726799 Validation Accuracy at 0.6225998997688293\n",
      "Epoch 65, CIFAR-10 Batch 4:  Loss at 0.08205261826515198 Validation Accuracy at 0.6207998991012573\n",
      "Epoch 65, CIFAR-10 Batch 5:  Loss at 0.07849743962287903 Validation Accuracy at 0.6159998774528503\n",
      "Epoch 66, CIFAR-10 Batch 1:  Loss at 0.12845122814178467 Validation Accuracy at 0.619399905204773\n",
      "Epoch 66, CIFAR-10 Batch 2:  Loss at 0.062468621879816055 Validation Accuracy at 0.6075999140739441\n",
      "Epoch 66, CIFAR-10 Batch 3:  Loss at 0.0736902505159378 Validation Accuracy at 0.6177998781204224\n",
      "Epoch 66, CIFAR-10 Batch 4:  Loss at 0.08301757276058197 Validation Accuracy at 0.6259998679161072\n",
      "Epoch 66, CIFAR-10 Batch 5:  Loss at 0.07996818423271179 Validation Accuracy at 0.6113998889923096\n",
      "Epoch 67, CIFAR-10 Batch 1:  Loss at 0.13299456238746643 Validation Accuracy at 0.6159998774528503\n",
      "Epoch 67, CIFAR-10 Batch 2:  Loss at 0.05868690833449364 Validation Accuracy at 0.6067999005317688\n",
      "Epoch 67, CIFAR-10 Batch 3:  Loss at 0.0722176730632782 Validation Accuracy at 0.6197999715805054\n",
      "Epoch 67, CIFAR-10 Batch 4:  Loss at 0.07851190865039825 Validation Accuracy at 0.6219999194145203\n",
      "Epoch 67, CIFAR-10 Batch 5:  Loss at 0.06465939432382584 Validation Accuracy at 0.6189998388290405\n",
      "Epoch 68, CIFAR-10 Batch 1:  Loss at 0.1401008814573288 Validation Accuracy at 0.6197999119758606\n",
      "Epoch 68, CIFAR-10 Batch 2:  Loss at 0.05594061687588692 Validation Accuracy at 0.6097999215126038\n",
      "Epoch 68, CIFAR-10 Batch 3:  Loss at 0.0700511634349823 Validation Accuracy at 0.6177998781204224\n",
      "Epoch 68, CIFAR-10 Batch 4:  Loss at 0.0636468380689621 Validation Accuracy at 0.6175999641418457\n",
      "Epoch 68, CIFAR-10 Batch 5:  Loss at 0.06922391057014465 Validation Accuracy at 0.6157999038696289\n",
      "Epoch 69, CIFAR-10 Batch 1:  Loss at 0.12595997750759125 Validation Accuracy at 0.614599883556366\n",
      "Epoch 69, CIFAR-10 Batch 2:  Loss at 0.05621059611439705 Validation Accuracy at 0.6083998680114746\n",
      "Epoch 69, CIFAR-10 Batch 3:  Loss at 0.07285674661397934 Validation Accuracy at 0.6167998909950256\n",
      "Epoch 69, CIFAR-10 Batch 4:  Loss at 0.06409233063459396 Validation Accuracy at 0.6227999329566956\n",
      "Epoch 69, CIFAR-10 Batch 5:  Loss at 0.0836033970117569 Validation Accuracy at 0.6159999370574951\n",
      "Epoch 70, CIFAR-10 Batch 1:  Loss at 0.11948976665735245 Validation Accuracy at 0.614599883556366\n",
      "Epoch 70, CIFAR-10 Batch 2:  Loss at 0.05704234540462494 Validation Accuracy at 0.6169999241828918\n",
      "Epoch 70, CIFAR-10 Batch 3:  Loss at 0.07927980273962021 Validation Accuracy at 0.6173999905586243\n",
      "Epoch 70, CIFAR-10 Batch 4:  Loss at 0.06555290520191193 Validation Accuracy at 0.61819988489151\n",
      "Epoch 70, CIFAR-10 Batch 5:  Loss at 0.07227298617362976 Validation Accuracy at 0.6135998964309692\n",
      "Epoch 71, CIFAR-10 Batch 1:  Loss at 0.10762432217597961 Validation Accuracy at 0.6133999228477478\n",
      "Epoch 71, CIFAR-10 Batch 2:  Loss at 0.05379965156316757 Validation Accuracy at 0.6113998889923096\n",
      "Epoch 71, CIFAR-10 Batch 3:  Loss at 0.06857474893331528 Validation Accuracy at 0.6187999248504639\n",
      "Epoch 71, CIFAR-10 Batch 4:  Loss at 0.0586189329624176 Validation Accuracy at 0.6157999038696289\n",
      "Epoch 71, CIFAR-10 Batch 5:  Loss at 0.07752272486686707 Validation Accuracy at 0.6195998787879944\n",
      "Epoch 72, CIFAR-10 Batch 1:  Loss at 0.11374862492084503 Validation Accuracy at 0.6203999519348145\n",
      "Epoch 72, CIFAR-10 Batch 2:  Loss at 0.05138711631298065 Validation Accuracy at 0.6077999472618103\n",
      "Epoch 72, CIFAR-10 Batch 3:  Loss at 0.07460854202508926 Validation Accuracy at 0.6169999241828918\n",
      "Epoch 72, CIFAR-10 Batch 4:  Loss at 0.05989179015159607 Validation Accuracy at 0.6217999458312988\n",
      "Epoch 72, CIFAR-10 Batch 5:  Loss at 0.06144346296787262 Validation Accuracy at 0.6157999038696289\n",
      "Epoch 73, CIFAR-10 Batch 1:  Loss at 0.1154775619506836 Validation Accuracy at 0.6239998936653137\n",
      "Epoch 73, CIFAR-10 Batch 2:  Loss at 0.05155973136425018 Validation Accuracy at 0.6115999221801758\n",
      "Epoch 73, CIFAR-10 Batch 3:  Loss at 0.05942267179489136 Validation Accuracy at 0.6221998929977417\n",
      "Epoch 73, CIFAR-10 Batch 4:  Loss at 0.06481367349624634 Validation Accuracy at 0.6201999187469482\n",
      "Epoch 73, CIFAR-10 Batch 5:  Loss at 0.06264866888523102 Validation Accuracy at 0.6227998733520508\n",
      "Epoch 74, CIFAR-10 Batch 1:  Loss at 0.09942284971475601 Validation Accuracy at 0.61819988489151\n",
      "Epoch 74, CIFAR-10 Batch 2:  Loss at 0.04749518260359764 Validation Accuracy at 0.6129999756813049\n",
      "Epoch 74, CIFAR-10 Batch 3:  Loss at 0.06537239253520966 Validation Accuracy at 0.6151999235153198\n",
      "Epoch 74, CIFAR-10 Batch 4:  Loss at 0.06456051766872406 Validation Accuracy at 0.6195998787879944\n",
      "Epoch 74, CIFAR-10 Batch 5:  Loss at 0.06439371407032013 Validation Accuracy at 0.6213998794555664\n",
      "Epoch 75, CIFAR-10 Batch 1:  Loss at 0.09638691693544388 Validation Accuracy at 0.6153998970985413\n",
      "Epoch 75, CIFAR-10 Batch 2:  Loss at 0.04939529299736023 Validation Accuracy at 0.6137998700141907\n",
      "Epoch 75, CIFAR-10 Batch 3:  Loss at 0.06103602424263954 Validation Accuracy at 0.6247998476028442\n",
      "Epoch 75, CIFAR-10 Batch 4:  Loss at 0.05724985525012016 Validation Accuracy at 0.6253998875617981\n",
      "Epoch 75, CIFAR-10 Batch 5:  Loss at 0.0658905953168869 Validation Accuracy at 0.6169999241828918\n",
      "Epoch 76, CIFAR-10 Batch 1:  Loss at 0.09788250923156738 Validation Accuracy at 0.6205998659133911\n",
      "Epoch 76, CIFAR-10 Batch 2:  Loss at 0.05108354240655899 Validation Accuracy at 0.6157999038696289\n",
      "Epoch 76, CIFAR-10 Batch 3:  Loss at 0.0526871420443058 Validation Accuracy at 0.6205999255180359\n",
      "Epoch 76, CIFAR-10 Batch 4:  Loss at 0.05660659819841385 Validation Accuracy at 0.6215998530387878\n",
      "Epoch 76, CIFAR-10 Batch 5:  Loss at 0.05770648270845413 Validation Accuracy at 0.6233999133110046\n",
      "Epoch 77, CIFAR-10 Batch 1:  Loss at 0.09614458680152893 Validation Accuracy at 0.6179999113082886\n",
      "Epoch 77, CIFAR-10 Batch 2:  Loss at 0.040801431983709335 Validation Accuracy at 0.6157999038696289\n",
      "Epoch 77, CIFAR-10 Batch 3:  Loss at 0.05153699964284897 Validation Accuracy at 0.6245998740196228\n",
      "Epoch 77, CIFAR-10 Batch 4:  Loss at 0.05595923215150833 Validation Accuracy at 0.6237999200820923\n",
      "Epoch 77, CIFAR-10 Batch 5:  Loss at 0.06583850085735321 Validation Accuracy at 0.6209999322891235\n",
      "Epoch 78, CIFAR-10 Batch 1:  Loss at 0.09318859875202179 Validation Accuracy at 0.6147999167442322\n",
      "Epoch 78, CIFAR-10 Batch 2:  Loss at 0.050964757800102234 Validation Accuracy at 0.6167998909950256\n",
      "Epoch 78, CIFAR-10 Batch 3:  Loss at 0.05316458269953728 Validation Accuracy at 0.6185998916625977\n",
      "Epoch 78, CIFAR-10 Batch 4:  Loss at 0.05356530100107193 Validation Accuracy at 0.6201999187469482\n",
      "Epoch 78, CIFAR-10 Batch 5:  Loss at 0.06316287070512772 Validation Accuracy at 0.6209998726844788\n",
      "Epoch 79, CIFAR-10 Batch 1:  Loss at 0.0931677296757698 Validation Accuracy at 0.623999834060669\n",
      "Epoch 79, CIFAR-10 Batch 2:  Loss at 0.044154293835163116 Validation Accuracy at 0.6179999113082886\n",
      "Epoch 79, CIFAR-10 Batch 3:  Loss at 0.04845539852976799 Validation Accuracy at 0.6195999383926392\n",
      "Epoch 79, CIFAR-10 Batch 4:  Loss at 0.061640579253435135 Validation Accuracy at 0.619399905204773\n",
      "Epoch 79, CIFAR-10 Batch 5:  Loss at 0.06333701312541962 Validation Accuracy at 0.6219999194145203\n",
      "Epoch 80, CIFAR-10 Batch 1:  Loss at 0.09663084149360657 Validation Accuracy at 0.6197999119758606\n",
      "Epoch 80, CIFAR-10 Batch 2:  Loss at 0.04810892790555954 Validation Accuracy at 0.611799955368042\n",
      "Epoch 80, CIFAR-10 Batch 3:  Loss at 0.05096700042486191 Validation Accuracy at 0.6213999390602112\n",
      "Epoch 80, CIFAR-10 Batch 4:  Loss at 0.0534340925514698 Validation Accuracy at 0.6255998611450195\n",
      "Epoch 80, CIFAR-10 Batch 5:  Loss at 0.06119799241423607 Validation Accuracy at 0.6285998821258545\n",
      "Epoch 81, CIFAR-10 Batch 1:  Loss at 0.09331168234348297 Validation Accuracy at 0.619399905204773\n",
      "Epoch 81, CIFAR-10 Batch 2:  Loss at 0.047693945467472076 Validation Accuracy at 0.6225998997688293\n",
      "Epoch 81, CIFAR-10 Batch 3:  Loss at 0.047476138919591904 Validation Accuracy at 0.619999885559082\n",
      "Epoch 81, CIFAR-10 Batch 4:  Loss at 0.05983719974756241 Validation Accuracy at 0.6231999397277832\n",
      "Epoch 81, CIFAR-10 Batch 5:  Loss at 0.05977585166692734 Validation Accuracy at 0.6195998787879944\n",
      "Epoch 82, CIFAR-10 Batch 1:  Loss at 0.0828327015042305 Validation Accuracy at 0.6253998875617981\n",
      "Epoch 82, CIFAR-10 Batch 2:  Loss at 0.045979276299476624 Validation Accuracy at 0.6155999302864075\n",
      "Epoch 82, CIFAR-10 Batch 3:  Loss at 0.04630885273218155 Validation Accuracy at 0.6223999261856079\n",
      "Epoch 82, CIFAR-10 Batch 4:  Loss at 0.04947439953684807 Validation Accuracy at 0.621199905872345\n",
      "Epoch 82, CIFAR-10 Batch 5:  Loss at 0.05822455883026123 Validation Accuracy at 0.6231999397277832\n",
      "Epoch 83, CIFAR-10 Batch 1:  Loss at 0.0808856338262558 Validation Accuracy at 0.6263999342918396\n",
      "Epoch 83, CIFAR-10 Batch 2:  Loss at 0.04040359705686569 Validation Accuracy at 0.6185998916625977\n",
      "Epoch 83, CIFAR-10 Batch 3:  Loss at 0.04734737426042557 Validation Accuracy at 0.6255998611450195\n",
      "Epoch 83, CIFAR-10 Batch 4:  Loss at 0.051007941365242004 Validation Accuracy at 0.6231999397277832\n",
      "Epoch 83, CIFAR-10 Batch 5:  Loss at 0.05280200392007828 Validation Accuracy at 0.6209999322891235\n",
      "Epoch 84, CIFAR-10 Batch 1:  Loss at 0.08447673171758652 Validation Accuracy at 0.6249998807907104\n",
      "Epoch 84, CIFAR-10 Batch 2:  Loss at 0.038801971822977066 Validation Accuracy at 0.6149998903274536\n",
      "Epoch 84, CIFAR-10 Batch 3:  Loss at 0.04749272018671036 Validation Accuracy at 0.6243998408317566\n",
      "Epoch 84, CIFAR-10 Batch 4:  Loss at 0.04835093393921852 Validation Accuracy at 0.621199905872345\n",
      "Epoch 84, CIFAR-10 Batch 5:  Loss at 0.05002504587173462 Validation Accuracy at 0.6241998672485352\n",
      "Epoch 85, CIFAR-10 Batch 1:  Loss at 0.08056409657001495 Validation Accuracy at 0.6177998781204224\n",
      "Epoch 85, CIFAR-10 Batch 2:  Loss at 0.04078066349029541 Validation Accuracy at 0.6131998896598816\n",
      "Epoch 85, CIFAR-10 Batch 3:  Loss at 0.04469403624534607 Validation Accuracy at 0.6201999187469482\n",
      "Epoch 85, CIFAR-10 Batch 4:  Loss at 0.043638043105602264 Validation Accuracy at 0.6213998794555664\n",
      "Epoch 85, CIFAR-10 Batch 5:  Loss at 0.04815216362476349 Validation Accuracy at 0.6191999316215515\n",
      "Epoch 86, CIFAR-10 Batch 1:  Loss at 0.08092091232538223 Validation Accuracy at 0.6155998706817627\n",
      "Epoch 86, CIFAR-10 Batch 2:  Loss at 0.044921498745679855 Validation Accuracy at 0.6139999032020569\n",
      "Epoch 86, CIFAR-10 Batch 3:  Loss at 0.0469573438167572 Validation Accuracy at 0.6195998787879944\n",
      "Epoch 86, CIFAR-10 Batch 4:  Loss at 0.049641840159893036 Validation Accuracy at 0.6151999235153198\n",
      "Epoch 86, CIFAR-10 Batch 5:  Loss at 0.04562103748321533 Validation Accuracy at 0.6179998517036438\n",
      "Epoch 87, CIFAR-10 Batch 1:  Loss at 0.07246032357215881 Validation Accuracy at 0.6207998991012573\n",
      "Epoch 87, CIFAR-10 Batch 2:  Loss at 0.045778270810842514 Validation Accuracy at 0.6159999370574951\n",
      "Epoch 87, CIFAR-10 Batch 3:  Loss at 0.04596344009041786 Validation Accuracy at 0.6201998591423035\n",
      "Epoch 87, CIFAR-10 Batch 4:  Loss at 0.044913437217473984 Validation Accuracy at 0.6235998868942261\n",
      "Epoch 87, CIFAR-10 Batch 5:  Loss at 0.04861951246857643 Validation Accuracy at 0.6163999438285828\n",
      "Epoch 88, CIFAR-10 Batch 1:  Loss at 0.08825981616973877 Validation Accuracy at 0.621199905872345\n",
      "Epoch 88, CIFAR-10 Batch 2:  Loss at 0.039794087409973145 Validation Accuracy at 0.6169999241828918\n",
      "Epoch 88, CIFAR-10 Batch 3:  Loss at 0.044489555060863495 Validation Accuracy at 0.6211999654769897\n",
      "Epoch 88, CIFAR-10 Batch 4:  Loss at 0.04641101509332657 Validation Accuracy at 0.622999906539917\n",
      "Epoch 88, CIFAR-10 Batch 5:  Loss at 0.042920440435409546 Validation Accuracy at 0.6215998530387878\n",
      "Epoch 89, CIFAR-10 Batch 1:  Loss at 0.0755196139216423 Validation Accuracy at 0.6199999451637268\n",
      "Epoch 89, CIFAR-10 Batch 2:  Loss at 0.030214913189411163 Validation Accuracy at 0.6167999505996704\n",
      "Epoch 89, CIFAR-10 Batch 3:  Loss at 0.03919009119272232 Validation Accuracy at 0.621799886226654\n",
      "Epoch 89, CIFAR-10 Batch 4:  Loss at 0.04485248774290085 Validation Accuracy at 0.6241999268531799\n",
      "Epoch 89, CIFAR-10 Batch 5:  Loss at 0.04388329014182091 Validation Accuracy at 0.6233999133110046\n",
      "Epoch 90, CIFAR-10 Batch 1:  Loss at 0.06412935256958008 Validation Accuracy at 0.6167999505996704\n",
      "Epoch 90, CIFAR-10 Batch 2:  Loss at 0.03948447108268738 Validation Accuracy at 0.6107999086380005\n",
      "Epoch 90, CIFAR-10 Batch 3:  Loss at 0.04285309836268425 Validation Accuracy at 0.6159999370574951\n",
      "Epoch 90, CIFAR-10 Batch 4:  Loss at 0.04293029010295868 Validation Accuracy at 0.6233999133110046\n",
      "Epoch 90, CIFAR-10 Batch 5:  Loss at 0.042292095720767975 Validation Accuracy at 0.6169999241828918\n",
      "Epoch 91, CIFAR-10 Batch 1:  Loss at 0.0704130232334137 Validation Accuracy at 0.6141998767852783\n",
      "Epoch 91, CIFAR-10 Batch 2:  Loss at 0.04141749441623688 Validation Accuracy at 0.6159999370574951\n",
      "Epoch 91, CIFAR-10 Batch 3:  Loss at 0.04221721366047859 Validation Accuracy at 0.6189998984336853\n",
      "Epoch 91, CIFAR-10 Batch 4:  Loss at 0.040567152202129364 Validation Accuracy at 0.6241999268531799\n",
      "Epoch 91, CIFAR-10 Batch 5:  Loss at 0.03925589472055435 Validation Accuracy at 0.621199905872345\n",
      "Epoch 92, CIFAR-10 Batch 1:  Loss at 0.06908247619867325 Validation Accuracy at 0.6111999154090881\n",
      "Epoch 92, CIFAR-10 Batch 2:  Loss at 0.039090778678655624 Validation Accuracy at 0.6057998538017273\n",
      "Epoch 92, CIFAR-10 Batch 3:  Loss at 0.035366300493478775 Validation Accuracy at 0.6249998807907104\n",
      "Epoch 92, CIFAR-10 Batch 4:  Loss at 0.04009557515382767 Validation Accuracy at 0.6173999309539795\n",
      "Epoch 92, CIFAR-10 Batch 5:  Loss at 0.03947672247886658 Validation Accuracy at 0.6215999126434326\n",
      "Epoch 93, CIFAR-10 Batch 1:  Loss at 0.06300479173660278 Validation Accuracy at 0.6183999180793762\n",
      "Epoch 93, CIFAR-10 Batch 2:  Loss at 0.033675678074359894 Validation Accuracy at 0.6131998896598816\n",
      "Epoch 93, CIFAR-10 Batch 3:  Loss at 0.034433599561452866 Validation Accuracy at 0.6223999261856079\n",
      "Epoch 93, CIFAR-10 Batch 4:  Loss at 0.045560285449028015 Validation Accuracy at 0.6187999248504639\n",
      "Epoch 93, CIFAR-10 Batch 5:  Loss at 0.0471888966858387 Validation Accuracy at 0.6177998781204224\n",
      "Epoch 94, CIFAR-10 Batch 1:  Loss at 0.06728533655405045 Validation Accuracy at 0.611799955368042\n",
      "Epoch 94, CIFAR-10 Batch 2:  Loss at 0.033639244735240936 Validation Accuracy at 0.6175999045372009\n",
      "Epoch 94, CIFAR-10 Batch 3:  Loss at 0.035135142505168915 Validation Accuracy at 0.6167998909950256\n",
      "Epoch 94, CIFAR-10 Batch 4:  Loss at 0.043144430965185165 Validation Accuracy at 0.6261999011039734\n",
      "Epoch 94, CIFAR-10 Batch 5:  Loss at 0.04335226118564606 Validation Accuracy at 0.616399884223938\n",
      "Epoch 95, CIFAR-10 Batch 1:  Loss at 0.0796196460723877 Validation Accuracy at 0.6139999032020569\n",
      "Epoch 95, CIFAR-10 Batch 2:  Loss at 0.03545302897691727 Validation Accuracy at 0.6133999228477478\n",
      "Epoch 95, CIFAR-10 Batch 3:  Loss at 0.0365578830242157 Validation Accuracy at 0.6219999194145203\n",
      "Epoch 95, CIFAR-10 Batch 4:  Loss at 0.048214610666036606 Validation Accuracy at 0.6273998618125916\n",
      "Epoch 95, CIFAR-10 Batch 5:  Loss at 0.04784823954105377 Validation Accuracy at 0.613599956035614\n",
      "Epoch 96, CIFAR-10 Batch 1:  Loss at 0.07803778350353241 Validation Accuracy at 0.616399884223938\n",
      "Epoch 96, CIFAR-10 Batch 2:  Loss at 0.03451002016663551 Validation Accuracy at 0.612799882888794\n",
      "Epoch 96, CIFAR-10 Batch 3:  Loss at 0.03219008445739746 Validation Accuracy at 0.6205999255180359\n",
      "Epoch 96, CIFAR-10 Batch 4:  Loss at 0.036740101873874664 Validation Accuracy at 0.6189998984336853\n",
      "Epoch 96, CIFAR-10 Batch 5:  Loss at 0.036991946399211884 Validation Accuracy at 0.6179999113082886\n",
      "Epoch 97, CIFAR-10 Batch 1:  Loss at 0.06390474736690521 Validation Accuracy at 0.6169998645782471\n",
      "Epoch 97, CIFAR-10 Batch 2:  Loss at 0.03745248541235924 Validation Accuracy at 0.6157999038696289\n",
      "Epoch 97, CIFAR-10 Batch 3:  Loss at 0.03583540767431259 Validation Accuracy at 0.6225998401641846\n",
      "Epoch 97, CIFAR-10 Batch 4:  Loss at 0.0327749103307724 Validation Accuracy at 0.6169999241828918\n",
      "Epoch 97, CIFAR-10 Batch 5:  Loss at 0.034484829753637314 Validation Accuracy at 0.6183999180793762\n",
      "Epoch 98, CIFAR-10 Batch 1:  Loss at 0.06790454685688019 Validation Accuracy at 0.6167999505996704\n",
      "Epoch 98, CIFAR-10 Batch 2:  Loss at 0.03916839882731438 Validation Accuracy at 0.6185999512672424\n",
      "Epoch 98, CIFAR-10 Batch 3:  Loss at 0.03539475426077843 Validation Accuracy at 0.6195999383926392\n",
      "Epoch 98, CIFAR-10 Batch 4:  Loss at 0.03629351407289505 Validation Accuracy at 0.6191999316215515\n",
      "Epoch 98, CIFAR-10 Batch 5:  Loss at 0.03772290423512459 Validation Accuracy at 0.6183999180793762\n",
      "Epoch 99, CIFAR-10 Batch 1:  Loss at 0.08263435959815979 Validation Accuracy at 0.6163999438285828\n",
      "Epoch 99, CIFAR-10 Batch 2:  Loss at 0.03518915921449661 Validation Accuracy at 0.619999885559082\n",
      "Epoch 99, CIFAR-10 Batch 3:  Loss at 0.034881122410297394 Validation Accuracy at 0.622999906539917\n",
      "Epoch 99, CIFAR-10 Batch 4:  Loss at 0.040337949991226196 Validation Accuracy at 0.6275998950004578\n",
      "Epoch 99, CIFAR-10 Batch 5:  Loss at 0.03119698166847229 Validation Accuracy at 0.6209999322891235\n",
      "Epoch 100, CIFAR-10 Batch 1:  Loss at 0.07690557837486267 Validation Accuracy at 0.6197999119758606\n",
      "Epoch 100, CIFAR-10 Batch 2:  Loss at 0.03254207223653793 Validation Accuracy at 0.6161998510360718\n",
      "Epoch 100, CIFAR-10 Batch 3:  Loss at 0.03153578191995621 Validation Accuracy at 0.6225998997688293\n",
      "Epoch 100, CIFAR-10 Batch 4:  Loss at 0.029713822528719902 Validation Accuracy at 0.6237999200820923\n",
      "Epoch 100, CIFAR-10 Batch 5:  Loss at 0.04215167090296745 Validation Accuracy at 0.6189998984336853\n"
     ]
    }
   ],
   "source": [
    "\"\"\"\n",
    "DON'T MODIFY ANYTHING IN THIS CELL\n",
    "\"\"\"\n",
    "save_model_path = './image_classification'\n",
    "\n",
    "print('Training...')\n",
    "with tf.Session() as sess:\n",
    "    # Initializing the variables\n",
    "    sess.run(tf.global_variables_initializer())\n",
    "    \n",
    "    # Training cycle\n",
    "    for epoch in range(epochs):\n",
    "        # Loop over all batches\n",
    "        n_batches = 5\n",
    "        for batch_i in range(1, n_batches + 1):\n",
    "            for batch_features, batch_labels in helper.load_preprocess_training_batch(batch_i, batch_size):\n",
    "                train_neural_network(sess, optimizer, keep_probability, batch_features, batch_labels)\n",
    "            print('Epoch {:>2}, CIFAR-10 Batch {}:  '.format(epoch + 1, batch_i), end='')\n",
    "            print_stats(sess, batch_features, batch_labels, cost, accuracy)\n",
    "            \n",
    "    # Save Model\n",
    "    saver = tf.train.Saver()\n",
    "    save_path = saver.save(sess, save_model_path)"
   ]
  },
  {
   "cell_type": "markdown",
   "metadata": {
    "deletable": true,
    "editable": true
   },
   "source": [
    "# Checkpoint\n",
    "The model has been saved to disk.\n",
    "## Test Model\n",
    "Test your model against the test dataset.  This will be your final accuracy. You should have an accuracy greater than 50%. If you don't, keep tweaking the model architecture and parameters."
   ]
  },
  {
   "cell_type": "code",
   "execution_count": 148,
   "metadata": {
    "collapsed": false,
    "deletable": true,
    "editable": true
   },
   "outputs": [
    {
     "name": "stdout",
     "output_type": "stream",
     "text": [
      "Testing Accuracy: 0.62275390625\n",
      "\n"
     ]
    },
    {
     "data": {
      "image/png": "[encoded data removed]",
      "text/plain": [
       "<matplotlib.figure.Figure at 0x7fbab8627710>"
      ]
     },
     "metadata": {
      "image/png": {
       "height": 319,
       "width": 355
      }
     },
     "output_type": "display_data"
    }
   ],
   "source": [
    "\"\"\"\n",
    "DON'T MODIFY ANYTHING IN THIS CELL\n",
    "\"\"\"\n",
    "%matplotlib inline\n",
    "%config InlineBackend.figure_format = 'retina'\n",
    "\n",
    "import tensorflow as tf\n",
    "import pickle\n",
    "import helper\n",
    "import random\n",
    "\n",
    "# Set batch size if not already set\n",
    "try:\n",
    "    if batch_size:\n",
    "        pass\n",
    "except NameError:\n",
    "    batch_size = 64\n",
    "\n",
    "save_model_path = './image_classification'\n",
    "n_samples = 4\n",
    "top_n_predictions = 3\n",
    "\n",
    "def test_model():\n",
    "    \"\"\"\n",
    "    Test the saved model against the test dataset\n",
    "    \"\"\"\n",
    "\n",
    "    test_features, test_labels = pickle.load(open('preprocess_training.p', mode='rb'))\n",
    "    loaded_graph = tf.Graph()\n",
    "\n",
    "    with tf.Session(graph=loaded_graph) as sess:\n",
    "        # Load model\n",
    "        loader = tf.train.import_meta_graph(save_model_path + '.meta')\n",
    "        loader.restore(sess, save_model_path)\n",
    "\n",
    "        # Get Tensors from loaded model\n",
    "        loaded_x = loaded_graph.get_tensor_by_name('x:0')\n",
    "        loaded_y = loaded_graph.get_tensor_by_name('y:0')\n",
    "        loaded_keep_prob = loaded_graph.get_tensor_by_name('keep_prob:0')\n",
    "        loaded_logits = loaded_graph.get_tensor_by_name('logits:0')\n",
    "        loaded_acc = loaded_graph.get_tensor_by_name('accuracy:0')\n",
    "        \n",
    "        # Get accuracy in batches for memory limitations\n",
    "        test_batch_acc_total = 0\n",
    "        test_batch_count = 0\n",
    "        \n",
    "        for train_feature_batch, train_label_batch in helper.batch_features_labels(test_features, test_labels, batch_size):\n",
    "            test_batch_acc_total += sess.run(\n",
    "                loaded_acc,\n",
    "                feed_dict={loaded_x: train_feature_batch, loaded_y: train_label_batch, loaded_keep_prob: 1.0})\n",
    "            test_batch_count += 1\n",
    "\n",
    "        print('Testing Accuracy: {}\\n'.format(test_batch_acc_total/test_batch_count))\n",
    "\n",
    "        # Print Random Samples\n",
    "        random_test_features, random_test_labels = tuple(zip(*random.sample(list(zip(test_features, test_labels)), n_samples)))\n",
    "        random_test_predictions = sess.run(\n",
    "            tf.nn.top_k(tf.nn.softmax(loaded_logits), top_n_predictions),\n",
    "            feed_dict={loaded_x: random_test_features, loaded_y: random_test_labels, loaded_keep_prob: 1.0})\n",
    "        helper.display_image_predictions(random_test_features, random_test_labels, random_test_predictions)\n",
    "\n",
    "\n",
    "test_model()"
   ]
  },
  {
   "cell_type": "markdown",
   "metadata": {
    "deletable": true,
    "editable": true
   },
   "source": [
    "## Why 50-70% Accuracy?\n",
    "You might be wondering why you can't get an accuracy any higher. First things first, 50% isn't bad for a simple CNN.  Pure guessing would get you 10% accuracy. However, you might notice people are getting scores [well above 70%](http://rodrigob.github.io/are_we_there_yet/build/classification_datasets_results.html#43494641522d3130).  That's because we haven't taught you all there is to know about neural networks. We still need to cover a few more techniques.\n",
    "## Submitting This Project\n",
    "When submitting this project, make sure to run all the cells before saving the notebook.  Save the notebook file as \"dlnd_image_classification.ipynb\" and save it as a HTML file under \"File\" -> \"Download as\".  Include the \"helper.py\" and \"problem_unittests.py\" files in your submission."
   ]
  }
 ],
 "metadata": {
  "kernelspec": {
   "display_name": "Python 3",
   "language": "python",
   "name": "python3"
  },
  "language_info": {
   "codemirror_mode": {
    "name": "ipython",
    "version": 3
   },
   "file_extension": ".py",
   "mimetype": "text/x-python",
   "name": "python",
   "nbconvert_exporter": "python",
   "pygments_lexer": "ipython3",
   "version": "3.5.2"
  },
  "widgets": {
   "state": {},
   "version": "1.1.2"
  }
 },
 "nbformat": 4,
 "nbformat_minor": 0
}
